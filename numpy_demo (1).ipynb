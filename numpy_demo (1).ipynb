{
 "cells": [
  {
   "cell_type": "code",
   "execution_count": 2,
   "metadata": {
    "collapsed": true
   },
   "outputs": [],
   "source": [
    "import numpy as np"
   ]
  },
  {
   "cell_type": "code",
   "execution_count": 2,
   "metadata": {},
   "outputs": [
    {
     "data": {
      "text/plain": [
       "array([1, 2, 3])"
      ]
     },
     "execution_count": 2,
     "metadata": {},
     "output_type": "execute_result"
    }
   ],
   "source": [
    "np.array([1,2,3])"
   ]
  },
  {
   "cell_type": "code",
   "execution_count": 3,
   "metadata": {
    "collapsed": true
   },
   "outputs": [],
   "source": [
    "x = np.array([1,2,3])"
   ]
  },
  {
   "cell_type": "code",
   "execution_count": 4,
   "metadata": {},
   "outputs": [
    {
     "data": {
      "text/plain": [
       "(3,)"
      ]
     },
     "execution_count": 4,
     "metadata": {},
     "output_type": "execute_result"
    }
   ],
   "source": [
    "x.shape"
   ]
  },
  {
   "cell_type": "code",
   "execution_count": 5,
   "metadata": {},
   "outputs": [
    {
     "data": {
      "text/plain": [
       "array([1, 2, 3])"
      ]
     },
     "execution_count": 5,
     "metadata": {},
     "output_type": "execute_result"
    }
   ],
   "source": [
    "x"
   ]
  },
  {
   "cell_type": "code",
   "execution_count": 6,
   "metadata": {},
   "outputs": [
    {
     "data": {
      "text/plain": [
       "numpy.ndarray"
      ]
     },
     "execution_count": 6,
     "metadata": {},
     "output_type": "execute_result"
    }
   ],
   "source": [
    "type(x)"
   ]
  },
  {
   "cell_type": "code",
   "execution_count": 7,
   "metadata": {},
   "outputs": [
    {
     "data": {
      "text/plain": [
       "array([[1, 2],\n",
       "       [4, 5]])"
      ]
     },
     "execution_count": 7,
     "metadata": {},
     "output_type": "execute_result"
    }
   ],
   "source": [
    "np.array([[1,2], [4,5]])"
   ]
  },
  {
   "cell_type": "code",
   "execution_count": 8,
   "metadata": {
    "collapsed": true
   },
   "outputs": [],
   "source": [
    "A = np.array([[1,2], [4,5]])"
   ]
  },
  {
   "cell_type": "code",
   "execution_count": 9,
   "metadata": {},
   "outputs": [
    {
     "data": {
      "text/plain": [
       "(2, 2)"
      ]
     },
     "execution_count": 9,
     "metadata": {},
     "output_type": "execute_result"
    }
   ],
   "source": [
    "A.shape"
   ]
  },
  {
   "cell_type": "code",
   "execution_count": 10,
   "metadata": {},
   "outputs": [
    {
     "data": {
      "text/plain": [
       "numpy.ndarray"
      ]
     },
     "execution_count": 10,
     "metadata": {},
     "output_type": "execute_result"
    }
   ],
   "source": [
    "type(A)"
   ]
  },
  {
   "cell_type": "code",
   "execution_count": 11,
   "metadata": {},
   "outputs": [
    {
     "data": {
      "text/plain": [
       "[0, 1, 2, 3, 4, 5, 6, 7, 8, 9]"
      ]
     },
     "execution_count": 11,
     "metadata": {},
     "output_type": "execute_result"
    }
   ],
   "source": [
    "range(10)"
   ]
  },
  {
   "cell_type": "code",
   "execution_count": 12,
   "metadata": {},
   "outputs": [
    {
     "data": {
      "text/plain": [
       "array([0, 1, 2, 3, 4, 5, 6, 7, 8, 9])"
      ]
     },
     "execution_count": 12,
     "metadata": {},
     "output_type": "execute_result"
    }
   ],
   "source": [
    "np.arange(10)"
   ]
  },
  {
   "cell_type": "code",
   "execution_count": 13,
   "metadata": {
    "collapsed": true
   },
   "outputs": [],
   "source": [
    "x = np.arange(10)"
   ]
  },
  {
   "cell_type": "code",
   "execution_count": 14,
   "metadata": {},
   "outputs": [
    {
     "data": {
      "text/plain": [
       "array([0, 1, 2, 3, 4, 5, 6, 7, 8, 9])"
      ]
     },
     "execution_count": 14,
     "metadata": {},
     "output_type": "execute_result"
    }
   ],
   "source": [
    "x"
   ]
  },
  {
   "cell_type": "code",
   "execution_count": 15,
   "metadata": {
    "collapsed": true
   },
   "outputs": [],
   "source": [
    "y = range(10)"
   ]
  },
  {
   "cell_type": "code",
   "execution_count": 16,
   "metadata": {},
   "outputs": [
    {
     "data": {
      "text/plain": [
       "[0, 1, 2, 3, 4, 5, 6, 7, 8, 9]"
      ]
     },
     "execution_count": 16,
     "metadata": {},
     "output_type": "execute_result"
    }
   ],
   "source": [
    "y"
   ]
  },
  {
   "cell_type": "code",
   "execution_count": 17,
   "metadata": {},
   "outputs": [
    {
     "data": {
      "text/plain": [
       "[0, 1, 2, 3, 4, 5, 6, 7, 8, 9, 0, 1, 2, 3, 4, 5, 6, 7, 8, 9]"
      ]
     },
     "execution_count": 17,
     "metadata": {},
     "output_type": "execute_result"
    }
   ],
   "source": [
    "y + y"
   ]
  },
  {
   "cell_type": "code",
   "execution_count": 18,
   "metadata": {},
   "outputs": [
    {
     "data": {
      "text/plain": [
       "array([ 0,  2,  4,  6,  8, 10, 12, 14, 16, 18])"
      ]
     },
     "execution_count": 18,
     "metadata": {},
     "output_type": "execute_result"
    }
   ],
   "source": [
    "x + x"
   ]
  },
  {
   "cell_type": "code",
   "execution_count": 19,
   "metadata": {},
   "outputs": [
    {
     "data": {
      "text/plain": [
       "array([ 0,  2,  4,  6,  8, 10, 12, 14, 16, 18])"
      ]
     },
     "execution_count": 19,
     "metadata": {},
     "output_type": "execute_result"
    }
   ],
   "source": [
    "x * 2"
   ]
  },
  {
   "cell_type": "code",
   "execution_count": 20,
   "metadata": {},
   "outputs": [
    {
     "data": {
      "text/plain": [
       "[0, 1, 2, 3, 4, 5, 6, 7, 8, 9, 0, 1, 2, 3, 4, 5, 6, 7, 8, 9]"
      ]
     },
     "execution_count": 20,
     "metadata": {},
     "output_type": "execute_result"
    }
   ],
   "source": [
    "y * 2"
   ]
  },
  {
   "cell_type": "code",
   "execution_count": 21,
   "metadata": {},
   "outputs": [
    {
     "data": {
      "text/plain": [
       "[0, 1, 2, 3, 4, 5, 6, 7, 8, 9, 0, 1, 2, 3, 4, 5, 6, 7, 8, 9]"
      ]
     },
     "execution_count": 21,
     "metadata": {},
     "output_type": "execute_result"
    }
   ],
   "source": [
    "y + y"
   ]
  },
  {
   "cell_type": "code",
   "execution_count": 22,
   "metadata": {},
   "outputs": [
    {
     "data": {
      "text/plain": [
       "array([0, 1, 2, 3, 4, 5, 6, 7, 8, 9, 0, 1, 2, 3, 4, 5, 6, 7, 8, 9])"
      ]
     },
     "execution_count": 22,
     "metadata": {},
     "output_type": "execute_result"
    }
   ],
   "source": [
    "np.concatenate((x,x))"
   ]
  },
  {
   "cell_type": "code",
   "execution_count": 23,
   "metadata": {},
   "outputs": [
    {
     "data": {
      "text/plain": [
       "16.881943016134134"
      ]
     },
     "execution_count": 23,
     "metadata": {},
     "output_type": "execute_result"
    }
   ],
   "source": [
    "np.linalg.norm(x)"
   ]
  },
  {
   "cell_type": "code",
   "execution_count": 24,
   "metadata": {},
   "outputs": [
    {
     "data": {
      "text/plain": [
       "array([0, 1, 2, 3, 4, 5, 6, 7, 8, 9])"
      ]
     },
     "execution_count": 24,
     "metadata": {},
     "output_type": "execute_result"
    }
   ],
   "source": [
    "x"
   ]
  },
  {
   "cell_type": "code",
   "execution_count": 25,
   "metadata": {},
   "outputs": [
    {
     "data": {
      "text/plain": [
       "[0, 1, 4, 9, 16, 25, 36, 49, 64, 81]"
      ]
     },
     "execution_count": 25,
     "metadata": {},
     "output_type": "execute_result"
    }
   ],
   "source": [
    "[a*a for a in x]"
   ]
  },
  {
   "cell_type": "code",
   "execution_count": 26,
   "metadata": {},
   "outputs": [
    {
     "data": {
      "text/plain": [
       "285"
      ]
     },
     "execution_count": 26,
     "metadata": {},
     "output_type": "execute_result"
    }
   ],
   "source": [
    "sum([a*a for a in x])"
   ]
  },
  {
   "cell_type": "code",
   "execution_count": 27,
   "metadata": {},
   "outputs": [
    {
     "ename": "NameError",
     "evalue": "name 'sqrt' is not defined",
     "output_type": "error",
     "traceback": [
      "\u001b[0;31m---------------------------------------------------------------------------\u001b[0m",
      "\u001b[0;31mNameError\u001b[0m                                 Traceback (most recent call last)",
      "\u001b[0;32m<ipython-input-27-483901e369bf>\u001b[0m in \u001b[0;36m<module>\u001b[0;34m()\u001b[0m\n\u001b[0;32m----> 1\u001b[0;31m \u001b[0msqrt\u001b[0m\u001b[0;34m(\u001b[0m\u001b[0msum\u001b[0m\u001b[0;34m(\u001b[0m\u001b[0;34m[\u001b[0m\u001b[0ma\u001b[0m\u001b[0;34m*\u001b[0m\u001b[0ma\u001b[0m \u001b[0;32mfor\u001b[0m \u001b[0ma\u001b[0m \u001b[0;32min\u001b[0m \u001b[0mx\u001b[0m\u001b[0;34m]\u001b[0m\u001b[0;34m)\u001b[0m\u001b[0;34m)\u001b[0m\u001b[0;34m\u001b[0m\u001b[0m\n\u001b[0m",
      "\u001b[0;31mNameError\u001b[0m: name 'sqrt' is not defined"
     ]
    }
   ],
   "source": [
    "sqrt(sum([a*a for a in x]))"
   ]
  },
  {
   "cell_type": "code",
   "execution_count": 28,
   "metadata": {
    "collapsed": true
   },
   "outputs": [],
   "source": [
    "from math import *"
   ]
  },
  {
   "cell_type": "code",
   "execution_count": 29,
   "metadata": {},
   "outputs": [
    {
     "data": {
      "text/plain": [
       "16.881943016134134"
      ]
     },
     "execution_count": 29,
     "metadata": {},
     "output_type": "execute_result"
    }
   ],
   "source": [
    "sqrt(sum([a*a for a in x]))"
   ]
  },
  {
   "cell_type": "code",
   "execution_count": 30,
   "metadata": {},
   "outputs": [
    {
     "data": {
      "text/plain": [
       "2.2360679774997898"
      ]
     },
     "execution_count": 30,
     "metadata": {},
     "output_type": "execute_result"
    }
   ],
   "source": [
    "np.linalg.norm(np.array([1,2]))"
   ]
  },
  {
   "cell_type": "code",
   "execution_count": 31,
   "metadata": {},
   "outputs": [
    {
     "data": {
      "text/plain": [
       "2.23606797749979"
      ]
     },
     "execution_count": 31,
     "metadata": {},
     "output_type": "execute_result"
    }
   ],
   "source": [
    "sqrt(1*1+2*2)"
   ]
  },
  {
   "cell_type": "code",
   "execution_count": 32,
   "metadata": {
    "collapsed": true
   },
   "outputs": [],
   "source": [
    "a = np.array([1,2])"
   ]
  },
  {
   "cell_type": "code",
   "execution_count": 33,
   "metadata": {
    "collapsed": true
   },
   "outputs": [],
   "source": [
    "b = np.array([3,1])"
   ]
  },
  {
   "cell_type": "code",
   "execution_count": 34,
   "metadata": {},
   "outputs": [
    {
     "data": {
      "text/plain": [
       "array([4, 3])"
      ]
     },
     "execution_count": 34,
     "metadata": {},
     "output_type": "execute_result"
    }
   ],
   "source": [
    "a + b"
   ]
  },
  {
   "cell_type": "code",
   "execution_count": 35,
   "metadata": {},
   "outputs": [
    {
     "data": {
      "text/plain": [
       "array([3, 2])"
      ]
     },
     "execution_count": 35,
     "metadata": {},
     "output_type": "execute_result"
    }
   ],
   "source": [
    "a * b"
   ]
  },
  {
   "cell_type": "code",
   "execution_count": 36,
   "metadata": {},
   "outputs": [
    {
     "data": {
      "text/plain": [
       "5"
      ]
     },
     "execution_count": 36,
     "metadata": {},
     "output_type": "execute_result"
    }
   ],
   "source": [
    "a.dot(b)"
   ]
  },
  {
   "cell_type": "code",
   "execution_count": 37,
   "metadata": {},
   "outputs": [
    {
     "data": {
      "text/plain": [
       "5"
      ]
     },
     "execution_count": 37,
     "metadata": {},
     "output_type": "execute_result"
    }
   ],
   "source": [
    "sum(x*y for (x,y) in zip(a,b))"
   ]
  },
  {
   "cell_type": "code",
   "execution_count": 38,
   "metadata": {},
   "outputs": [
    {
     "data": {
      "text/plain": [
       "[(1, 3), (2, 1)]"
      ]
     },
     "execution_count": 38,
     "metadata": {},
     "output_type": "execute_result"
    }
   ],
   "source": [
    "zip(a,b)"
   ]
  },
  {
   "cell_type": "code",
   "execution_count": 41,
   "metadata": {},
   "outputs": [
    {
     "data": {
      "text/plain": [
       "5"
      ]
     },
     "execution_count": 41,
     "metadata": {},
     "output_type": "execute_result"
    }
   ],
   "source": [
    "sum([x*y for (x,y) in zip(a,b)])"
   ]
  },
  {
   "cell_type": "code",
   "execution_count": 45,
   "metadata": {
    "collapsed": true
   },
   "outputs": [],
   "source": [
    "import matplotlib.pyplot as plt"
   ]
  },
  {
   "cell_type": "code",
   "execution_count": 46,
   "metadata": {},
   "outputs": [
    {
     "data": {
      "text/plain": [
       "[<matplotlib.lines.Line2D at 0x10cf249d0>]"
      ]
     },
     "execution_count": 46,
     "metadata": {},
     "output_type": "execute_result"
    }
   ],
   "source": [
    "plt.plot([1,2])"
   ]
  },
  {
   "cell_type": "code",
   "execution_count": 3,
   "metadata": {},
   "outputs": [
    {
     "name": "stdout",
     "output_type": "stream",
     "text": [
      "Using matplotlib backend: MacOSX\n",
      "Populating the interactive namespace from numpy and matplotlib\n"
     ]
    }
   ],
   "source": [
    "%pylab"
   ]
  },
  {
   "cell_type": "code",
   "execution_count": 48,
   "metadata": {},
   "outputs": [
    {
     "data": {
      "text/plain": [
       "[<matplotlib.lines.Line2D at 0x1132c7ad0>]"
      ]
     },
     "execution_count": 48,
     "metadata": {},
     "output_type": "execute_result"
    }
   ],
   "source": [
    "plot([1,2,4])"
   ]
  },
  {
   "cell_type": "code",
   "execution_count": 49,
   "metadata": {},
   "outputs": [
    {
     "data": {
      "text/plain": [
       "[<matplotlib.lines.Line2D at 0x1163f7390>]"
      ]
     },
     "execution_count": 49,
     "metadata": {},
     "output_type": "execute_result"
    }
   ],
   "source": [
    "plot([10,15,16],[1,2,4])"
   ]
  },
  {
   "cell_type": "code",
   "execution_count": 50,
   "metadata": {},
   "outputs": [
    {
     "data": {
      "text/plain": [
       "0.8583903214765335"
      ]
     },
     "execution_count": 50,
     "metadata": {},
     "output_type": "execute_result"
    }
   ],
   "source": [
    "np.random.rand()"
   ]
  },
  {
   "cell_type": "code",
   "execution_count": 51,
   "metadata": {},
   "outputs": [
    {
     "data": {
      "text/plain": [
       "0.7765422305628009"
      ]
     },
     "execution_count": 51,
     "metadata": {},
     "output_type": "execute_result"
    }
   ],
   "source": [
    "np.random.rand()"
   ]
  },
  {
   "cell_type": "code",
   "execution_count": 52,
   "metadata": {},
   "outputs": [
    {
     "data": {
      "text/plain": [
       "array([ 0.23372757,  0.20115827])"
      ]
     },
     "execution_count": 52,
     "metadata": {},
     "output_type": "execute_result"
    }
   ],
   "source": [
    "np.random.rand(2)"
   ]
  },
  {
   "cell_type": "code",
   "execution_count": 53,
   "metadata": {},
   "outputs": [
    {
     "data": {
      "text/plain": [
       "array([[ 0.66173485,  0.61348838],\n",
       "       [ 0.67514394,  0.83686444],\n",
       "       [ 0.72159929,  0.4914619 ],\n",
       "       [ 0.17796346,  0.97655882],\n",
       "       [ 0.03882643,  0.82042706],\n",
       "       [ 0.59739194,  0.72429001],\n",
       "       [ 0.42287466,  0.12304079],\n",
       "       [ 0.45258519,  0.11975368],\n",
       "       [ 0.12152163,  0.48147918],\n",
       "       [ 0.37357522,  0.86923485]])"
      ]
     },
     "execution_count": 53,
     "metadata": {},
     "output_type": "execute_result"
    }
   ],
   "source": [
    "np.random.rand(10,2)"
   ]
  },
  {
   "cell_type": "code",
   "execution_count": 4,
   "metadata": {
    "collapsed": true
   },
   "outputs": [],
   "source": [
    "X = np.random.rand(10,2)"
   ]
  },
  {
   "cell_type": "code",
   "execution_count": 55,
   "metadata": {},
   "outputs": [
    {
     "data": {
      "text/plain": [
       "array([[ 0.49778099,  0.99916324],\n",
       "       [ 0.50111003,  0.79123508],\n",
       "       [ 0.44058869,  0.41190524],\n",
       "       [ 0.17639237,  0.79767185],\n",
       "       [ 0.97237422,  0.52793962],\n",
       "       [ 0.31779727,  0.55978925],\n",
       "       [ 0.48396518,  0.30106021],\n",
       "       [ 0.53884929,  0.49992757],\n",
       "       [ 0.46498784,  0.95715905],\n",
       "       [ 0.27918222,  0.95762105]])"
      ]
     },
     "execution_count": 55,
     "metadata": {},
     "output_type": "execute_result"
    }
   ],
   "source": [
    "X"
   ]
  },
  {
   "cell_type": "code",
   "execution_count": 56,
   "metadata": {},
   "outputs": [
    {
     "data": {
      "text/plain": [
       "array([ 0.49778099,  0.99916324])"
      ]
     },
     "execution_count": 56,
     "metadata": {},
     "output_type": "execute_result"
    }
   ],
   "source": [
    "X[0]"
   ]
  },
  {
   "cell_type": "code",
   "execution_count": 57,
   "metadata": {},
   "outputs": [
    {
     "data": {
      "text/plain": [
       "array([ 0.27918222,  0.95762105])"
      ]
     },
     "execution_count": 57,
     "metadata": {},
     "output_type": "execute_result"
    }
   ],
   "source": [
    "X[-1]"
   ]
  },
  {
   "cell_type": "code",
   "execution_count": 58,
   "metadata": {},
   "outputs": [
    {
     "data": {
      "text/plain": [
       "array([ 0.49778099,  0.50111003,  0.44058869,  0.17639237,  0.97237422,\n",
       "        0.31779727,  0.48396518,  0.53884929,  0.46498784,  0.27918222])"
      ]
     },
     "execution_count": 58,
     "metadata": {},
     "output_type": "execute_result"
    }
   ],
   "source": [
    "X[:,0]"
   ]
  },
  {
   "cell_type": "code",
   "execution_count": 59,
   "metadata": {},
   "outputs": [
    {
     "data": {
      "text/plain": [
       "array([ 0.99916324,  0.79123508,  0.41190524,  0.79767185,  0.52793962,\n",
       "        0.55978925,  0.30106021,  0.49992757,  0.95715905,  0.95762105])"
      ]
     },
     "execution_count": 59,
     "metadata": {},
     "output_type": "execute_result"
    }
   ],
   "source": [
    "X[:,1]"
   ]
  },
  {
   "cell_type": "code",
   "execution_count": 60,
   "metadata": {},
   "outputs": [
    {
     "data": {
      "text/plain": [
       "[<matplotlib.lines.Line2D at 0x116914b90>,\n",
       " <matplotlib.lines.Line2D at 0x116914d90>]"
      ]
     },
     "execution_count": 60,
     "metadata": {},
     "output_type": "execute_result"
    }
   ],
   "source": [
    "plot(X)"
   ]
  },
  {
   "cell_type": "code",
   "execution_count": 6,
   "metadata": {},
   "outputs": [
    {
     "data": {
      "text/plain": [
       "[<matplotlib.lines.Line2D at 0x1125b6ed0>]"
      ]
     },
     "execution_count": 6,
     "metadata": {},
     "output_type": "execute_result"
    }
   ],
   "source": [
    "plot(X[:,0], X[:,1], 'w')"
   ]
  },
  {
   "cell_type": "code",
   "execution_count": 62,
   "metadata": {
    "collapsed": true
   },
   "outputs": [],
   "source": [
    "clf()"
   ]
  },
  {
   "cell_type": "code",
   "execution_count": 7,
   "metadata": {},
   "outputs": [
    {
     "data": {
      "text/plain": [
       "[<matplotlib.lines.Line2D at 0x112600f50>]"
      ]
     },
     "execution_count": 7,
     "metadata": {},
     "output_type": "execute_result"
    }
   ],
   "source": [
    "plot(X[:,0], X[:,1], 'sb')"
   ]
  },
  {
   "cell_type": "code",
   "execution_count": 64,
   "metadata": {
    "collapsed": true
   },
   "outputs": [],
   "source": [
    "clf()"
   ]
  },
  {
   "cell_type": "code",
   "execution_count": 65,
   "metadata": {},
   "outputs": [
    {
     "data": {
      "text/plain": [
       "[<matplotlib.lines.Line2D at 0x116fb5290>]"
      ]
     },
     "execution_count": 65,
     "metadata": {},
     "output_type": "execute_result"
    }
   ],
   "source": [
    "plot(X[:,0], X[:,1], 'dr')"
   ]
  },
  {
   "cell_type": "code",
   "execution_count": 8,
   "metadata": {
    "collapsed": true
   },
   "outputs": [],
   "source": [
    "x = np.arange(10)"
   ]
  },
  {
   "cell_type": "code",
   "execution_count": 67,
   "metadata": {},
   "outputs": [
    {
     "data": {
      "text/plain": [
       "array([0, 1, 2, 3, 4, 5, 6, 7, 8, 9])"
      ]
     },
     "execution_count": 67,
     "metadata": {},
     "output_type": "execute_result"
    }
   ],
   "source": [
    "x"
   ]
  },
  {
   "cell_type": "code",
   "execution_count": 68,
   "metadata": {},
   "outputs": [
    {
     "data": {
      "text/plain": [
       "array([ 0.97480597,  0.64008069,  0.65382282,  0.29631071,  0.42093465,\n",
       "        0.83443238,  0.81486536,  0.11777681,  0.98008608,  0.03348082])"
      ]
     },
     "execution_count": 68,
     "metadata": {},
     "output_type": "execute_result"
    }
   ],
   "source": [
    "np.random.rand(10)"
   ]
  },
  {
   "cell_type": "code",
   "execution_count": 69,
   "metadata": {},
   "outputs": [
    {
     "data": {
      "text/plain": [
       "array([ 0.28442056,  1.72609062,  2.78666341,  3.84049696,  4.41822019,\n",
       "        5.65230902,  6.48434679,  7.37458957,  8.02579708,  9.22969233])"
      ]
     },
     "execution_count": 69,
     "metadata": {},
     "output_type": "execute_result"
    }
   ],
   "source": [
    "x + np.random.rand(10)"
   ]
  },
  {
   "cell_type": "code",
   "execution_count": 70,
   "metadata": {
    "collapsed": true
   },
   "outputs": [],
   "source": [
    "x = np.arange(10) + np.random.rand(10)"
   ]
  },
  {
   "cell_type": "code",
   "execution_count": 71,
   "metadata": {},
   "outputs": [
    {
     "data": {
      "text/plain": [
       "array([ 0.28455454,  1.92332769,  2.5219964 ,  3.21559561,  4.56231848,\n",
       "        5.87271772,  6.71088948,  7.49770254,  8.67680144,  9.44851509])"
      ]
     },
     "execution_count": 71,
     "metadata": {},
     "output_type": "execute_result"
    }
   ],
   "source": [
    "x"
   ]
  },
  {
   "cell_type": "code",
   "execution_count": 72,
   "metadata": {
    "collapsed": true
   },
   "outputs": [],
   "source": [
    "clf()"
   ]
  },
  {
   "cell_type": "code",
   "execution_count": 73,
   "metadata": {},
   "outputs": [
    {
     "data": {
      "text/plain": [
       "[<matplotlib.lines.Line2D at 0x116fe0610>]"
      ]
     },
     "execution_count": 73,
     "metadata": {},
     "output_type": "execute_result"
    }
   ],
   "source": [
    "plot(x, '+c')"
   ]
  },
  {
   "cell_type": "code",
   "execution_count": 74,
   "metadata": {},
   "outputs": [
    {
     "data": {
      "text/plain": [
       "[<matplotlib.lines.Line2D at 0x118d75ed0>]"
      ]
     },
     "execution_count": 74,
     "metadata": {},
     "output_type": "execute_result"
    }
   ],
   "source": [
    "plot([0,10], [0,10])"
   ]
  },
  {
   "cell_type": "code",
   "execution_count": 75,
   "metadata": {
    "collapsed": true
   },
   "outputs": [],
   "source": [
    "clf()"
   ]
  },
  {
   "cell_type": "code",
   "execution_count": 76,
   "metadata": {},
   "outputs": [
    {
     "data": {
      "text/plain": [
       "array([0, 1, 2])"
      ]
     },
     "execution_count": 76,
     "metadata": {},
     "output_type": "execute_result"
    }
   ],
   "source": [
    "np.arange(3)"
   ]
  },
  {
   "cell_type": "code",
   "execution_count": 77,
   "metadata": {},
   "outputs": [
    {
     "data": {
      "text/plain": [
       "array([-1,  0,  1])"
      ]
     },
     "execution_count": 77,
     "metadata": {},
     "output_type": "execute_result"
    }
   ],
   "source": [
    "np.arange(3) - 1"
   ]
  },
  {
   "cell_type": "code",
   "execution_count": 78,
   "metadata": {},
   "outputs": [
    {
     "data": {
      "text/plain": [
       "array([-1,  0,  1])"
      ]
     },
     "execution_count": 78,
     "metadata": {},
     "output_type": "execute_result"
    }
   ],
   "source": [
    "np.arange(3) - np.array([1,1,1])"
   ]
  },
  {
   "cell_type": "code",
   "execution_count": 79,
   "metadata": {},
   "outputs": [
    {
     "data": {
      "text/plain": [
       "array([ 0.50280047,  0.8728428 ,  0.6712622 ,  0.53834089,  0.29592611,\n",
       "        0.04483383,  0.18413799,  0.07692249,  0.2559796 ,  0.69887885])"
      ]
     },
     "execution_count": 79,
     "metadata": {},
     "output_type": "execute_result"
    }
   ],
   "source": [
    "np.random.rand(10)"
   ]
  },
  {
   "cell_type": "code",
   "execution_count": 80,
   "metadata": {},
   "outputs": [
    {
     "data": {
      "text/plain": [
       "array([ 0.17127389, -0.2856479 ,  0.28903794, -0.12379614,  0.19773461,\n",
       "        0.23297174,  0.18708496, -0.26494435, -0.08530763,  0.2888253 ])"
      ]
     },
     "execution_count": 80,
     "metadata": {},
     "output_type": "execute_result"
    }
   ],
   "source": [
    "np.random.rand(10) - 0.5"
   ]
  },
  {
   "cell_type": "code",
   "execution_count": 81,
   "metadata": {
    "collapsed": true
   },
   "outputs": [],
   "source": [
    "x = np.arange(10) + np.random.rand(10) - 0.5"
   ]
  },
  {
   "cell_type": "code",
   "execution_count": 82,
   "metadata": {},
   "outputs": [
    {
     "data": {
      "text/plain": [
       "[<matplotlib.lines.Line2D at 0x118d22b50>]"
      ]
     },
     "execution_count": 82,
     "metadata": {},
     "output_type": "execute_result"
    }
   ],
   "source": [
    "plot(x, '+b')"
   ]
  },
  {
   "cell_type": "code",
   "execution_count": 83,
   "metadata": {},
   "outputs": [
    {
     "data": {
      "text/plain": [
       "[<matplotlib.lines.Line2D at 0x118df6050>]"
      ]
     },
     "execution_count": 83,
     "metadata": {},
     "output_type": "execute_result"
    }
   ],
   "source": [
    "plot([0,10],[0,10])"
   ]
  },
  {
   "cell_type": "code",
   "execution_count": 1,
   "metadata": {},
   "outputs": [
    {
     "ename": "NameError",
     "evalue": "name 'np' is not defined",
     "output_type": "error",
     "traceback": [
      "\u001b[0;31m---------------------------------------------------------------\u001b[0m",
      "\u001b[0;31mNameError\u001b[0m                     Traceback (most recent call last)",
      "\u001b[0;32m<ipython-input-1-e673a11bf624>\u001b[0m in \u001b[0;36m<module>\u001b[0;34m()\u001b[0m\n\u001b[0;32m----> 1\u001b[0;31m \u001b[0mx\u001b[0m \u001b[0;34m=\u001b[0m \u001b[0mnp\u001b[0m\u001b[0;34m.\u001b[0m\u001b[0marange\u001b[0m\u001b[0;34m(\u001b[0m\u001b[0;36m10\u001b[0m\u001b[0;34m)\u001b[0m\u001b[0;34m\u001b[0m\u001b[0m\n\u001b[0m",
      "\u001b[0;31mNameError\u001b[0m: name 'np' is not defined"
     ]
    }
   ],
   "source": [
    "x = np.arange(10)"
   ]
  },
  {
   "cell_type": "code",
   "execution_count": 85,
   "metadata": {
    "collapsed": true
   },
   "outputs": [],
   "source": [
    "y = [x_i + np.random.rand() for x_i in x]"
   ]
  },
  {
   "cell_type": "code",
   "execution_count": 86,
   "metadata": {},
   "outputs": [
    {
     "data": {
      "text/plain": [
       "[0.49495809494707976,\n",
       " 1.9758107580649134,\n",
       " 2.4092093774986578,\n",
       " 3.3829355494929874,\n",
       " 4.621688348491924,\n",
       " 5.4428884413352545,\n",
       " 6.2438798209234116,\n",
       " 7.9134930606787037,\n",
       " 8.5494739847293992,\n",
       " 9.9474800918610491]"
      ]
     },
     "execution_count": 86,
     "metadata": {},
     "output_type": "execute_result"
    }
   ],
   "source": [
    "y"
   ]
  },
  {
   "cell_type": "code",
   "execution_count": 87,
   "metadata": {
    "collapsed": true
   },
   "outputs": [],
   "source": [
    "y = np.array([x_i + np.random.rand() for x_i in x])"
   ]
  },
  {
   "cell_type": "code",
   "execution_count": 88,
   "metadata": {},
   "outputs": [
    {
     "data": {
      "text/plain": [
       "array([ 0.03436254,  1.70338587,  2.57420221,  3.0218875 ,  4.90091402,\n",
       "        5.85828911,  6.09086192,  7.76160075,  8.45925694,  9.61661804])"
      ]
     },
     "execution_count": 88,
     "metadata": {},
     "output_type": "execute_result"
    }
   ],
   "source": [
    "y"
   ]
  },
  {
   "cell_type": "code",
   "execution_count": 89,
   "metadata": {
    "collapsed": true
   },
   "outputs": [],
   "source": [
    "y = x + np.random.rand(10) - 0.5"
   ]
  },
  {
   "cell_type": "code",
   "execution_count": 90,
   "metadata": {},
   "outputs": [
    {
     "data": {
      "text/plain": [
       "array([ 0.2808971 ,  1.40123739,  1.51156306,  2.56079105,  4.04751994,\n",
       "        4.72936123,  6.11047533,  6.64589139,  8.24480994,  9.16149616])"
      ]
     },
     "execution_count": 90,
     "metadata": {},
     "output_type": "execute_result"
    }
   ],
   "source": [
    "y"
   ]
  },
  {
   "cell_type": "code",
   "execution_count": 91,
   "metadata": {},
   "outputs": [
    {
     "data": {
      "text/plain": [
       "[<matplotlib.lines.Line2D at 0x118dddcd0>]"
      ]
     },
     "execution_count": 91,
     "metadata": {},
     "output_type": "execute_result"
    }
   ],
   "source": [
    "plot(x,y, 'or')"
   ]
  },
  {
   "cell_type": "code",
   "execution_count": 92,
   "metadata": {
    "collapsed": true
   },
   "outputs": [],
   "source": [
    "clf()"
   ]
  },
  {
   "cell_type": "code",
   "execution_count": 93,
   "metadata": {
    "collapsed": true
   },
   "outputs": [],
   "source": [
    "x = np.arange(0,10,0.1)"
   ]
  },
  {
   "cell_type": "code",
   "execution_count": 94,
   "metadata": {},
   "outputs": [
    {
     "data": {
      "text/plain": [
       "array([ 0. ,  0.1,  0.2,  0.3,  0.4,  0.5,  0.6,  0.7,  0.8,  0.9,  1. ,\n",
       "        1.1,  1.2,  1.3,  1.4,  1.5,  1.6,  1.7,  1.8,  1.9,  2. ,  2.1,\n",
       "        2.2,  2.3,  2.4,  2.5,  2.6,  2.7,  2.8,  2.9,  3. ,  3.1,  3.2,\n",
       "        3.3,  3.4,  3.5,  3.6,  3.7,  3.8,  3.9,  4. ,  4.1,  4.2,  4.3,\n",
       "        4.4,  4.5,  4.6,  4.7,  4.8,  4.9,  5. ,  5.1,  5.2,  5.3,  5.4,\n",
       "        5.5,  5.6,  5.7,  5.8,  5.9,  6. ,  6.1,  6.2,  6.3,  6.4,  6.5,\n",
       "        6.6,  6.7,  6.8,  6.9,  7. ,  7.1,  7.2,  7.3,  7.4,  7.5,  7.6,\n",
       "        7.7,  7.8,  7.9,  8. ,  8.1,  8.2,  8.3,  8.4,  8.5,  8.6,  8.7,\n",
       "        8.8,  8.9,  9. ,  9.1,  9.2,  9.3,  9.4,  9.5,  9.6,  9.7,  9.8,\n",
       "        9.9])"
      ]
     },
     "execution_count": 94,
     "metadata": {},
     "output_type": "execute_result"
    }
   ],
   "source": [
    "x"
   ]
  },
  {
   "cell_type": "code",
   "execution_count": 95,
   "metadata": {
    "collapsed": true
   },
   "outputs": [],
   "source": [
    "y = x + np.random.rand(100) - 0.5"
   ]
  },
  {
   "cell_type": "code",
   "execution_count": 96,
   "metadata": {},
   "outputs": [
    {
     "data": {
      "text/plain": [
       "array([ -0.22727657,   0.07099117,   0.3713678 ,  -0.13535819,\n",
       "         0.32256028,   0.23990975,   0.1052552 ,   0.69754625,\n",
       "         0.7671883 ,   0.5361508 ,   0.70676845,   1.41904196,\n",
       "         0.8946635 ,   0.9723323 ,   0.96713235,   1.64780343,\n",
       "         1.42529496,   1.36150121,   2.2719586 ,   2.23529469,\n",
       "         1.95053916,   1.8063274 ,   2.24361423,   2.45319016,\n",
       "         2.5679756 ,   2.01476063,   2.50631212,   2.64786922,\n",
       "         2.56070147,   3.35204677,   3.11772556,   3.5778462 ,\n",
       "         3.51653925,   3.53452623,   3.01880009,   3.0084276 ,\n",
       "         3.5940909 ,   3.60576388,   3.54369403,   3.44467147,\n",
       "         4.1379646 ,   4.29893037,   4.03550402,   4.28035885,\n",
       "         4.81748697,   4.22370131,   4.51587319,   4.4342147 ,\n",
       "         5.09064898,   5.12038234,   5.28446778,   4.82757369,\n",
       "         5.4992088 ,   5.58607387,   5.2497665 ,   5.79802257,\n",
       "         5.59146746,   5.84932188,   6.23920284,   5.49117129,\n",
       "         5.68184887,   5.88550365,   6.27809116,   6.27674163,\n",
       "         6.64093075,   6.8209901 ,   6.29582591,   7.18860052,\n",
       "         6.7472688 ,   6.67533503,   6.86667142,   6.64721892,\n",
       "         7.45060625,   7.20076331,   7.72572486,   7.42468933,\n",
       "         7.77688361,   7.49505323,   7.90064656,   7.85704365,\n",
       "         7.6469351 ,   8.218262  ,   8.68561769,   8.11880783,\n",
       "         8.60357388,   8.26021266,   8.67113171,   8.76159381,\n",
       "         9.05766775,   8.78790719,   8.96951386,   9.35151286,\n",
       "         8.93768764,   9.67880416,   9.39569588,   9.45504644,\n",
       "         9.15850035,   9.68673743,   9.93429529,  10.04010514])"
      ]
     },
     "execution_count": 96,
     "metadata": {},
     "output_type": "execute_result"
    }
   ],
   "source": [
    "y"
   ]
  },
  {
   "cell_type": "code",
   "execution_count": 97,
   "metadata": {},
   "outputs": [
    {
     "data": {
      "text/plain": [
       "[<matplotlib.lines.Line2D at 0x118e81ad0>]"
      ]
     },
     "execution_count": 97,
     "metadata": {},
     "output_type": "execute_result"
    }
   ],
   "source": [
    "plot(x,y, 'sg')"
   ]
  },
  {
   "cell_type": "code",
   "execution_count": 98,
   "metadata": {
    "collapsed": true
   },
   "outputs": [],
   "source": [
    "clf()"
   ]
  },
  {
   "cell_type": "code",
   "execution_count": 99,
   "metadata": {},
   "outputs": [
    {
     "data": {
      "text/plain": [
       "[<matplotlib.lines.Line2D at 0x118ef6e10>]"
      ]
     },
     "execution_count": 99,
     "metadata": {},
     "output_type": "execute_result"
    }
   ],
   "source": [
    "plot(x,y, '+g')"
   ]
  },
  {
   "cell_type": "code",
   "execution_count": 100,
   "metadata": {
    "collapsed": true
   },
   "outputs": [],
   "source": [
    "a, b = np.polyfit(x,y,1)"
   ]
  },
  {
   "cell_type": "code",
   "execution_count": 101,
   "metadata": {},
   "outputs": [
    {
     "data": {
      "text/plain": [
       "(1.015783710606174, -0.094700002780409798)"
      ]
     },
     "execution_count": 101,
     "metadata": {},
     "output_type": "execute_result"
    }
   ],
   "source": [
    "a, b"
   ]
  },
  {
   "cell_type": "code",
   "execution_count": 102,
   "metadata": {},
   "outputs": [
    {
     "data": {
      "text/plain": [
       "[<matplotlib.lines.Line2D at 0x118f47f10>]"
      ]
     },
     "execution_count": 102,
     "metadata": {},
     "output_type": "execute_result"
    }
   ],
   "source": [
    "plot(x, a*x+b, '-c')"
   ]
  },
  {
   "cell_type": "code",
   "execution_count": 103,
   "metadata": {
    "collapsed": true
   },
   "outputs": [],
   "source": [
    "clf()"
   ]
  },
  {
   "cell_type": "code",
   "execution_count": 104,
   "metadata": {
    "collapsed": true
   },
   "outputs": [],
   "source": [
    "x = np.arange(0,10,0.5)"
   ]
  },
  {
   "cell_type": "code",
   "execution_count": 105,
   "metadata": {
    "collapsed": true
   },
   "outputs": [],
   "source": [
    "y = x + np.random.randn(20) - 0.5"
   ]
  },
  {
   "cell_type": "code",
   "execution_count": 106,
   "metadata": {},
   "outputs": [
    {
     "data": {
      "text/plain": [
       "[<matplotlib.lines.Line2D at 0x118f98890>]"
      ]
     },
     "execution_count": 106,
     "metadata": {},
     "output_type": "execute_result"
    }
   ],
   "source": [
    "plot(x, y, '+b')"
   ]
  },
  {
   "cell_type": "code",
   "execution_count": 107,
   "metadata": {
    "collapsed": true
   },
   "outputs": [],
   "source": [
    "a, b = np.polyfit(x,y,1)"
   ]
  },
  {
   "cell_type": "code",
   "execution_count": 108,
   "metadata": {},
   "outputs": [
    {
     "data": {
      "text/plain": [
       "(1.1213652693102711, -0.91761099908200705)"
      ]
     },
     "execution_count": 108,
     "metadata": {},
     "output_type": "execute_result"
    }
   ],
   "source": [
    "a,b"
   ]
  },
  {
   "cell_type": "code",
   "execution_count": 109,
   "metadata": {},
   "outputs": [
    {
     "data": {
      "text/plain": [
       "[<matplotlib.lines.Line2D at 0x118fddf90>]"
      ]
     },
     "execution_count": 109,
     "metadata": {},
     "output_type": "execute_result"
    }
   ],
   "source": [
    "plot(x, a*x+b, '-r')"
   ]
  },
  {
   "cell_type": "code",
   "execution_count": 110,
   "metadata": {
    "collapsed": true
   },
   "outputs": [],
   "source": [
    "a, b, c = np.polyfit(x,y,2)"
   ]
  },
  {
   "cell_type": "code",
   "execution_count": 111,
   "metadata": {},
   "outputs": [
    {
     "data": {
      "text/plain": [
       "(0.0041806166134694261, 1.0816494114823116, -0.85803721234006824)"
      ]
     },
     "execution_count": 111,
     "metadata": {},
     "output_type": "execute_result"
    }
   ],
   "source": [
    "a,b,c"
   ]
  },
  {
   "cell_type": "code",
   "execution_count": 112,
   "metadata": {},
   "outputs": [
    {
     "data": {
      "text/plain": [
       "[<matplotlib.lines.Line2D at 0x118fbec10>]"
      ]
     },
     "execution_count": 112,
     "metadata": {},
     "output_type": "execute_result"
    }
   ],
   "source": [
    "plot(x, a*x*x+b*x+c, '-c')"
   ]
  },
  {
   "cell_type": "code",
   "execution_count": 113,
   "metadata": {
    "collapsed": true
   },
   "outputs": [],
   "source": [
    "a, b, c, d = np.polyfit(x,y,3)"
   ]
  },
  {
   "cell_type": "code",
   "execution_count": 114,
   "metadata": {},
   "outputs": [
    {
     "data": {
      "text/plain": [
       "[<matplotlib.lines.Line2D at 0x118ff3190>]"
      ]
     },
     "execution_count": 114,
     "metadata": {},
     "output_type": "execute_result"
    }
   ],
   "source": [
    "plot(x, a*x*x*x+b*x*x+c*x+d, '-g')"
   ]
  },
  {
   "cell_type": "code",
   "execution_count": 115,
   "metadata": {},
   "outputs": [
    {
     "data": {
      "text/plain": [
       "[<matplotlib.lines.Line2D at 0x1163e9210>]"
      ]
     },
     "execution_count": 115,
     "metadata": {},
     "output_type": "execute_result"
    }
   ],
   "source": [
    "plot(x, a*x*x*x+b*x*x+c*x+d, '-w')"
   ]
  },
  {
   "cell_type": "code",
   "execution_count": 116,
   "metadata": {
    "collapsed": true
   },
   "outputs": [],
   "source": [
    "xx = np.arange(0,10,0.01)"
   ]
  },
  {
   "cell_type": "code",
   "execution_count": 117,
   "metadata": {},
   "outputs": [
    {
     "data": {
      "text/plain": [
       "[<matplotlib.lines.Line2D at 0x116f99a50>]"
      ]
     },
     "execution_count": 117,
     "metadata": {},
     "output_type": "execute_result"
    }
   ],
   "source": [
    "plot(xx, a*xx*xx*xx+b*xx*xx+c*xx+d, '-g')"
   ]
  },
  {
   "cell_type": "code",
   "execution_count": 118,
   "metadata": {
    "collapsed": true
   },
   "outputs": [],
   "source": [
    "a, b, c, d, e = np.polyfit(x,y,4)"
   ]
  },
  {
   "cell_type": "code",
   "execution_count": 119,
   "metadata": {},
   "outputs": [
    {
     "data": {
      "text/plain": [
       "[<matplotlib.lines.Line2D at 0x118fbecd0>]"
      ]
     },
     "execution_count": 119,
     "metadata": {},
     "output_type": "execute_result"
    }
   ],
   "source": [
    "plot(xx, a*xx*xx*xx*xx+b*xx*xx*xx+c*xx*xx+d*xx+e, '-b')"
   ]
  },
  {
   "cell_type": "code",
   "execution_count": 120,
   "metadata": {
    "collapsed": true
   },
   "outputs": [],
   "source": [
    "clf()"
   ]
  },
  {
   "cell_type": "code",
   "execution_count": 121,
   "metadata": {
    "collapsed": true
   },
   "outputs": [],
   "source": [
    "axes().set_aspect('equal')"
   ]
  },
  {
   "cell_type": "code",
   "execution_count": 122,
   "metadata": {},
   "outputs": [
    {
     "data": {
      "text/plain": [
       "[-10, 10, -10, 10]"
      ]
     },
     "execution_count": 122,
     "metadata": {},
     "output_type": "execute_result"
    }
   ],
   "source": [
    "axis([-10,10,-10,10])"
   ]
  },
  {
   "cell_type": "code",
   "execution_count": 123,
   "metadata": {
    "collapsed": true
   },
   "outputs": [],
   "source": [
    "show()"
   ]
  },
  {
   "cell_type": "code",
   "execution_count": 124,
   "metadata": {
    "collapsed": true
   },
   "outputs": [],
   "source": [
    "grid()"
   ]
  },
  {
   "cell_type": "code",
   "execution_count": 125,
   "metadata": {},
   "outputs": [
    {
     "data": {
      "text/plain": [
       "([<matplotlib.axis.XTick at 0x118fbeb50>,\n",
       "  <matplotlib.axis.XTick at 0x10602c150>,\n",
       "  <matplotlib.axis.XTick at 0x118fbe610>,\n",
       "  <matplotlib.axis.XTick at 0x106060510>,\n",
       "  <matplotlib.axis.XTick at 0x106060c10>,\n",
       "  <matplotlib.axis.XTick at 0x10606b350>,\n",
       "  <matplotlib.axis.XTick at 0x10607e8d0>,\n",
       "  <matplotlib.axis.XTick at 0x118fbe750>,\n",
       "  <matplotlib.axis.XTick at 0x106089a10>,\n",
       "  <matplotlib.axis.XTick at 0x10609ee50>,\n",
       "  <matplotlib.axis.XTick at 0x10609ec90>,\n",
       "  <matplotlib.axis.XTick at 0x106094c50>,\n",
       "  <matplotlib.axis.XTick at 0x10607eb50>,\n",
       "  <matplotlib.axis.XTick at 0x1060bd290>,\n",
       "  <matplotlib.axis.XTick at 0x1130b1d10>,\n",
       "  <matplotlib.axis.XTick at 0x1130b7210>,\n",
       "  <matplotlib.axis.XTick at 0x1130b7910>,\n",
       "  <matplotlib.axis.XTick at 0x1130c1090>,\n",
       "  <matplotlib.axis.XTick at 0x1130c17d0>,\n",
       "  <matplotlib.axis.XTick at 0x1130c1f10>],\n",
       " <a list of 20 Text xticklabel objects>)"
      ]
     },
     "execution_count": 125,
     "metadata": {},
     "output_type": "execute_result"
    }
   ],
   "source": [
    "xticks(np.arange(-10,10,1))"
   ]
  },
  {
   "cell_type": "code",
   "execution_count": 126,
   "metadata": {},
   "outputs": [
    {
     "data": {
      "text/plain": [
       "([<matplotlib.axis.YTick at 0x10600ded0>,\n",
       "  <matplotlib.axis.YTick at 0x118eacfd0>,\n",
       "  <matplotlib.axis.YTick at 0x118ff3b90>,\n",
       "  <matplotlib.axis.YTick at 0x106075a10>,\n",
       "  <matplotlib.axis.YTick at 0x10607e150>,\n",
       "  <matplotlib.axis.YTick at 0x10607e850>,\n",
       "  <matplotlib.axis.YTick at 0x118fe3bd0>,\n",
       "  <matplotlib.axis.YTick at 0x106094f50>,\n",
       "  <matplotlib.axis.YTick at 0x10609e610>,\n",
       "  <matplotlib.axis.YTick at 0x1130e4550>,\n",
       "  <matplotlib.axis.YTick at 0x1130e4a10>,\n",
       "  <matplotlib.axis.YTick at 0x1130e8090>,\n",
       "  <matplotlib.axis.YTick at 0x1130e8550>,\n",
       "  <matplotlib.axis.YTick at 0x1130e8c50>,\n",
       "  <matplotlib.axis.YTick at 0x1130f03d0>,\n",
       "  <matplotlib.axis.YTick at 0x1130f0b10>,\n",
       "  <matplotlib.axis.YTick at 0x11313c290>,\n",
       "  <matplotlib.axis.YTick at 0x11313c9d0>,\n",
       "  <matplotlib.axis.YTick at 0x113148150>,\n",
       "  <matplotlib.axis.YTick at 0x113148890>],\n",
       " <a list of 20 Text yticklabel objects>)"
      ]
     },
     "execution_count": 126,
     "metadata": {},
     "output_type": "execute_result"
    }
   ],
   "source": [
    "yticks(np.arange(-10,10,1))"
   ]
  },
  {
   "cell_type": "code",
   "execution_count": 127,
   "metadata": {
    "collapsed": true
   },
   "outputs": [],
   "source": [
    "a = np.array([4,2])"
   ]
  },
  {
   "cell_type": "code",
   "execution_count": 128,
   "metadata": {},
   "outputs": [
    {
     "data": {
      "text/plain": [
       "[<matplotlib.lines.Line2D at 0x1130e81d0>]"
      ]
     },
     "execution_count": 128,
     "metadata": {},
     "output_type": "execute_result"
    }
   ],
   "source": [
    "plot((0,a[0]), (0,a[1]))"
   ]
  },
  {
   "cell_type": "code",
   "execution_count": 129,
   "metadata": {},
   "outputs": [
    {
     "data": {
      "text/plain": [
       "[<matplotlib.lines.Line2D at 0x1060bdfd0>]"
      ]
     },
     "execution_count": 129,
     "metadata": {},
     "output_type": "execute_result"
    }
   ],
   "source": [
    "plot((0,a[0]), (0,a[1]), 'w')"
   ]
  },
  {
   "cell_type": "code",
   "execution_count": 130,
   "metadata": {},
   "outputs": [
    {
     "data": {
      "text/plain": [
       "<matplotlib.quiver.Quiver at 0x10609eed0>"
      ]
     },
     "execution_count": 130,
     "metadata": {},
     "output_type": "execute_result"
    }
   ],
   "source": [
    "quiver(0,0,a[0],a[1])"
   ]
  },
  {
   "cell_type": "code",
   "execution_count": 131,
   "metadata": {},
   "outputs": [
    {
     "data": {
      "text/plain": [
       "<matplotlib.quiver.Quiver at 0x118fdd910>"
      ]
     },
     "execution_count": 131,
     "metadata": {},
     "output_type": "execute_result"
    }
   ],
   "source": [
    "quiver(0,0,a[0],a[1], angles='xy', scale_units='xy', scale=1, color='c')"
   ]
  },
  {
   "cell_type": "code",
   "execution_count": 133,
   "metadata": {},
   "outputs": [
    {
     "data": {
      "text/plain": [
       "[-10, 10, -10, 10]"
      ]
     },
     "execution_count": 133,
     "metadata": {},
     "output_type": "execute_result"
    }
   ],
   "source": [
    "clf(); axes().set_aspect('equal'); axis([-10,10,-10,10])"
   ]
  },
  {
   "cell_type": "code",
   "execution_count": 135,
   "metadata": {},
   "outputs": [
    {
     "data": {
      "text/plain": [
       "([<matplotlib.axis.XTick at 0x11319bd90>,\n",
       "  <matplotlib.axis.XTick at 0x11319bad0>,\n",
       "  <matplotlib.axis.XTick at 0x118fdda10>,\n",
       "  <matplotlib.axis.XTick at 0x115946a90>,\n",
       "  <matplotlib.axis.XTick at 0x115958390>,\n",
       "  <matplotlib.axis.XTick at 0x115958a90>,\n",
       "  <matplotlib.axis.XTick at 0x1159611d0>,\n",
       "  <matplotlib.axis.XTick at 0x115961650>,\n",
       "  <matplotlib.axis.XTick at 0x115961d50>,\n",
       "  <matplotlib.axis.XTick at 0x1168b3510>,\n",
       "  <matplotlib.axis.XTick at 0x1168b3a10>,\n",
       "  <matplotlib.axis.XTick at 0x1168b3f10>,\n",
       "  <matplotlib.axis.XTick at 0x11686bd10>,\n",
       "  <matplotlib.axis.XTick at 0x11686b850>,\n",
       "  <matplotlib.axis.XTick at 0x11687a3d0>,\n",
       "  <matplotlib.axis.XTick at 0x11687a8d0>,\n",
       "  <matplotlib.axis.XTick at 0x11687add0>,\n",
       "  <matplotlib.axis.XTick at 0x11687b3d0>,\n",
       "  <matplotlib.axis.XTick at 0x11687bad0>,\n",
       "  <matplotlib.axis.XTick at 0x116883210>],\n",
       " <a list of 20 Text xticklabel objects>)"
      ]
     },
     "execution_count": 135,
     "metadata": {},
     "output_type": "execute_result"
    }
   ],
   "source": [
    "xticks(np.arange(-10,10,1))"
   ]
  },
  {
   "cell_type": "code",
   "execution_count": 136,
   "metadata": {},
   "outputs": [
    {
     "data": {
      "text/plain": [
       "([<matplotlib.axis.YTick at 0x11321e350>,\n",
       "  <matplotlib.axis.YTick at 0x1060bdad0>,\n",
       "  <matplotlib.axis.YTick at 0x11596ca50>,\n",
       "  <matplotlib.axis.YTick at 0x1159fac90>,\n",
       "  <matplotlib.axis.YTick at 0x1159fa710>,\n",
       "  <matplotlib.axis.YTick at 0x1158ff4d0>,\n",
       "  <matplotlib.axis.YTick at 0x115a03810>,\n",
       "  <matplotlib.axis.YTick at 0x115a03f10>,\n",
       "  <matplotlib.axis.YTick at 0x115a0d650>,\n",
       "  <matplotlib.axis.YTick at 0x11689e750>,\n",
       "  <matplotlib.axis.YTick at 0x11689eb90>,\n",
       "  <matplotlib.axis.YTick at 0x1168a31d0>,\n",
       "  <matplotlib.axis.YTick at 0x1168a38d0>,\n",
       "  <matplotlib.axis.YTick at 0x1168a3fd0>,\n",
       "  <matplotlib.axis.YTick at 0x1168ab6d0>,\n",
       "  <matplotlib.axis.YTick at 0x118fe3c90>,\n",
       "  <matplotlib.axis.YTick at 0x116a0b290>,\n",
       "  <matplotlib.axis.YTick at 0x116a0b990>,\n",
       "  <matplotlib.axis.YTick at 0x1169f80d0>,\n",
       "  <matplotlib.axis.YTick at 0x1169f87d0>],\n",
       " <a list of 20 Text yticklabel objects>)"
      ]
     },
     "execution_count": 136,
     "metadata": {},
     "output_type": "execute_result"
    }
   ],
   "source": [
    "yticks(np.arange(-10,10,1))"
   ]
  },
  {
   "cell_type": "code",
   "execution_count": 137,
   "metadata": {
    "collapsed": true
   },
   "outputs": [],
   "source": [
    "grid()"
   ]
  },
  {
   "cell_type": "code",
   "execution_count": 138,
   "metadata": {},
   "outputs": [
    {
     "data": {
      "text/plain": [
       "<matplotlib.quiver.Quiver at 0x116a13f90>"
      ]
     },
     "execution_count": 138,
     "metadata": {},
     "output_type": "execute_result"
    }
   ],
   "source": [
    "quiver(0,0,a[0],a[1], angles='xy', scale_units='xy', scale=1, color='b')"
   ]
  },
  {
   "cell_type": "code",
   "execution_count": 139,
   "metadata": {
    "collapsed": true
   },
   "outputs": [],
   "source": [
    "b = np.array([1,3])"
   ]
  },
  {
   "cell_type": "code",
   "execution_count": 140,
   "metadata": {},
   "outputs": [
    {
     "data": {
      "text/plain": [
       "<matplotlib.quiver.Quiver at 0x116a1d810>"
      ]
     },
     "execution_count": 140,
     "metadata": {},
     "output_type": "execute_result"
    }
   ],
   "source": [
    "quiver(0,0,b[0],b[1], angles='xy', scale_units='xy', scale=1, color='r')"
   ]
  },
  {
   "cell_type": "code",
   "execution_count": 143,
   "metadata": {
    "collapsed": true
   },
   "outputs": [],
   "source": [
    "def arrow((x,y), (x1,y1), color='b'):\n",
    "    quiver(x,y, x1, y1, angles='xy', scale_units='xy', scale=1, color=color)"
   ]
  },
  {
   "cell_type": "code",
   "execution_count": 144,
   "metadata": {
    "collapsed": true
   },
   "outputs": [],
   "source": [
    "arrow((0,0), (-2,2))"
   ]
  },
  {
   "cell_type": "code",
   "execution_count": 145,
   "metadata": {
    "collapsed": true
   },
   "outputs": [],
   "source": [
    "arrow((0,0), (2,-5))"
   ]
  },
  {
   "cell_type": "code",
   "execution_count": 146,
   "metadata": {
    "collapsed": true
   },
   "outputs": [],
   "source": [
    "arrow((0,0), np.array([1,-1]))"
   ]
  },
  {
   "cell_type": "code",
   "execution_count": 147,
   "metadata": {
    "collapsed": true
   },
   "outputs": [],
   "source": [
    "arrow((0,0), (-2,2), 'w')"
   ]
  },
  {
   "cell_type": "code",
   "execution_count": 148,
   "metadata": {
    "collapsed": true
   },
   "outputs": [],
   "source": [
    "arrow((0,0), (2,-5), 'w')"
   ]
  },
  {
   "cell_type": "code",
   "execution_count": 149,
   "metadata": {
    "collapsed": true
   },
   "outputs": [],
   "source": [
    "arrow((0,0), np.array([1,-1]), 'w')"
   ]
  },
  {
   "cell_type": "code",
   "execution_count": 150,
   "metadata": {},
   "outputs": [
    {
     "data": {
      "text/plain": [
       "array([5, 5])"
      ]
     },
     "execution_count": 150,
     "metadata": {},
     "output_type": "execute_result"
    }
   ],
   "source": [
    "a + b"
   ]
  },
  {
   "cell_type": "code",
   "execution_count": 151,
   "metadata": {
    "collapsed": true
   },
   "outputs": [],
   "source": [
    "arrow(a, b, 'r')"
   ]
  },
  {
   "cell_type": "code",
   "execution_count": 152,
   "metadata": {
    "collapsed": true
   },
   "outputs": [],
   "source": [
    "arrow((0,0), a+b, 'c')"
   ]
  },
  {
   "cell_type": "code",
   "execution_count": 153,
   "metadata": {},
   "outputs": [
    {
     "data": {
      "text/plain": [
       "array([ 3, -1])"
      ]
     },
     "execution_count": 153,
     "metadata": {},
     "output_type": "execute_result"
    }
   ],
   "source": [
    "a - b"
   ]
  },
  {
   "cell_type": "code",
   "execution_count": 154,
   "metadata": {
    "collapsed": true
   },
   "outputs": [],
   "source": [
    "arrow(b, a, 'g')"
   ]
  },
  {
   "cell_type": "code",
   "execution_count": 155,
   "metadata": {
    "collapsed": true
   },
   "outputs": [],
   "source": [
    "arrow(b, a-b, 'black')"
   ]
  },
  {
   "cell_type": "code",
   "execution_count": 156,
   "metadata": {
    "collapsed": true
   },
   "outputs": [],
   "source": [
    "arrow((0,0), a-b, 'black')"
   ]
  },
  {
   "cell_type": "code",
   "execution_count": 157,
   "metadata": {},
   "outputs": [
    {
     "data": {
      "text/plain": [
       "4.4721359549995796"
      ]
     },
     "execution_count": 157,
     "metadata": {},
     "output_type": "execute_result"
    }
   ],
   "source": [
    "np.linalg.norm(a)"
   ]
  },
  {
   "cell_type": "code",
   "execution_count": 158,
   "metadata": {},
   "outputs": [
    {
     "data": {
      "text/plain": [
       "3.1622776601683795"
      ]
     },
     "execution_count": 158,
     "metadata": {},
     "output_type": "execute_result"
    }
   ],
   "source": [
    "np.linalg.norm(b)"
   ]
  },
  {
   "cell_type": "code",
   "execution_count": 159,
   "metadata": {},
   "outputs": [
    {
     "data": {
      "text/plain": [
       "array([4, 6])"
      ]
     },
     "execution_count": 159,
     "metadata": {},
     "output_type": "execute_result"
    }
   ],
   "source": [
    "a * b"
   ]
  },
  {
   "cell_type": "code",
   "execution_count": 160,
   "metadata": {},
   "outputs": [
    {
     "data": {
      "text/plain": [
       "10"
      ]
     },
     "execution_count": 160,
     "metadata": {},
     "output_type": "execute_result"
    }
   ],
   "source": [
    "a.dot(b)"
   ]
  },
  {
   "cell_type": "code",
   "execution_count": 161,
   "metadata": {},
   "outputs": [
    {
     "data": {
      "text/plain": [
       "(array([4, 2]), array([1, 3]))"
      ]
     },
     "execution_count": 161,
     "metadata": {},
     "output_type": "execute_result"
    }
   ],
   "source": [
    "a,b"
   ]
  },
  {
   "cell_type": "code",
   "execution_count": 162,
   "metadata": {
    "collapsed": true
   },
   "outputs": [],
   "source": [
    "norm = lambda x : np.linalg.norm(x)"
   ]
  },
  {
   "cell_type": "code",
   "execution_count": 163,
   "metadata": {},
   "outputs": [
    {
     "data": {
      "text/plain": [
       "4.4721359549995796"
      ]
     },
     "execution_count": 163,
     "metadata": {},
     "output_type": "execute_result"
    }
   ],
   "source": [
    "norm(a)"
   ]
  },
  {
   "cell_type": "code",
   "execution_count": 164,
   "metadata": {},
   "outputs": [
    {
     "data": {
      "text/plain": [
       "0.70710678118654746"
      ]
     },
     "execution_count": 164,
     "metadata": {},
     "output_type": "execute_result"
    }
   ],
   "source": [
    "a.dot(b) / (norm(a) * norm(b))"
   ]
  },
  {
   "cell_type": "code",
   "execution_count": 165,
   "metadata": {
    "collapsed": true
   },
   "outputs": [],
   "source": [
    "theta = arccos(0.70710678118654746)"
   ]
  },
  {
   "cell_type": "code",
   "execution_count": 166,
   "metadata": {},
   "outputs": [
    {
     "data": {
      "text/plain": [
       "0.78539816339744839"
      ]
     },
     "execution_count": 166,
     "metadata": {},
     "output_type": "execute_result"
    }
   ],
   "source": [
    "theta"
   ]
  },
  {
   "cell_type": "code",
   "execution_count": 167,
   "metadata": {},
   "outputs": [
    {
     "data": {
      "text/plain": [
       "45.000000000000007"
      ]
     },
     "execution_count": 167,
     "metadata": {},
     "output_type": "execute_result"
    }
   ],
   "source": [
    "theta / np.pi * 180"
   ]
  },
  {
   "cell_type": "code",
   "execution_count": 168,
   "metadata": {},
   "outputs": [
    {
     "data": {
      "text/plain": [
       "0"
      ]
     },
     "execution_count": 168,
     "metadata": {},
     "output_type": "execute_result"
    }
   ],
   "source": [
    "b.dot(a-b)"
   ]
  },
  {
   "cell_type": "code",
   "execution_count": 169,
   "metadata": {
    "collapsed": true
   },
   "outputs": [],
   "source": [
    "costheta = a.dot(b) / (norm(a) * norm(b))"
   ]
  },
  {
   "cell_type": "code",
   "execution_count": 170,
   "metadata": {},
   "outputs": [
    {
     "data": {
      "text/plain": [
       "0.70710678118654746"
      ]
     },
     "execution_count": 170,
     "metadata": {},
     "output_type": "execute_result"
    }
   ],
   "source": [
    "costheta"
   ]
  },
  {
   "cell_type": "code",
   "execution_count": 171,
   "metadata": {},
   "outputs": [
    {
     "data": {
      "text/plain": [
       "2.2360679774997898"
      ]
     },
     "execution_count": 171,
     "metadata": {},
     "output_type": "execute_result"
    }
   ],
   "source": [
    "norm(b) * costheta"
   ]
  },
  {
   "cell_type": "code",
   "execution_count": 172,
   "metadata": {},
   "outputs": [
    {
     "data": {
      "text/plain": [
       "array([ 2.,  1.])"
      ]
     },
     "execution_count": 172,
     "metadata": {},
     "output_type": "execute_result"
    }
   ],
   "source": [
    "a / norm(a) * norm(b) * costheta"
   ]
  },
  {
   "cell_type": "code",
   "execution_count": 173,
   "metadata": {
    "collapsed": true
   },
   "outputs": [],
   "source": [
    "c = a / norm(a) * norm(b) * costheta"
   ]
  },
  {
   "cell_type": "code",
   "execution_count": 174,
   "metadata": {
    "collapsed": true
   },
   "outputs": [],
   "source": [
    "arrow((0,0), c, 'orange')"
   ]
  },
  {
   "cell_type": "code",
   "execution_count": 175,
   "metadata": {
    "collapsed": true
   },
   "outputs": [],
   "source": [
    "#c = a/|a| * (a.b)/|a| = a (a.b) /|a|^2 "
   ]
  },
  {
   "cell_type": "code",
   "execution_count": 176,
   "metadata": {
    "collapsed": true
   },
   "outputs": [],
   "source": [
    "d = a * a.dot(b) / norm(a)**2"
   ]
  },
  {
   "cell_type": "code",
   "execution_count": 177,
   "metadata": {},
   "outputs": [
    {
     "data": {
      "text/plain": [
       "array([ 2.,  1.])"
      ]
     },
     "execution_count": 177,
     "metadata": {},
     "output_type": "execute_result"
    }
   ],
   "source": [
    "d"
   ]
  },
  {
   "cell_type": "code",
   "execution_count": 178,
   "metadata": {},
   "outputs": [
    {
     "data": {
      "text/plain": [
       "array([False, False], dtype=bool)"
      ]
     },
     "execution_count": 178,
     "metadata": {},
     "output_type": "execute_result"
    }
   ],
   "source": [
    "d == c"
   ]
  },
  {
   "cell_type": "code",
   "execution_count": 179,
   "metadata": {},
   "outputs": [
    {
     "data": {
      "text/plain": [
       "array([ 2.,  1.])"
      ]
     },
     "execution_count": 179,
     "metadata": {},
     "output_type": "execute_result"
    }
   ],
   "source": [
    "c"
   ]
  },
  {
   "cell_type": "code",
   "execution_count": 180,
   "metadata": {
    "collapsed": true
   },
   "outputs": [],
   "source": [
    "arrow((0,0), d, 'magenta')"
   ]
  },
  {
   "cell_type": "code",
   "execution_count": 181,
   "metadata": {
    "collapsed": true
   },
   "outputs": [],
   "source": [
    "clf()"
   ]
  },
  {
   "cell_type": "code",
   "execution_count": 182,
   "metadata": {},
   "outputs": [
    {
     "data": {
      "text/plain": [
       "[-10, 10, -10, 10]"
      ]
     },
     "execution_count": 182,
     "metadata": {},
     "output_type": "execute_result"
    }
   ],
   "source": [
    "clf(); axes().set_aspect('equal'); axis([-10,10,-10,10])"
   ]
  },
  {
   "cell_type": "code",
   "execution_count": 183,
   "metadata": {
    "collapsed": true
   },
   "outputs": [],
   "source": [
    "X = np.random.randn(10,2)"
   ]
  },
  {
   "cell_type": "code",
   "execution_count": 184,
   "metadata": {},
   "outputs": [
    {
     "data": {
      "text/plain": [
       "array([[ 1.39689794, -0.48565161],\n",
       "       [ 0.89730497,  0.90118446],\n",
       "       [ 1.56949705, -0.15333455],\n",
       "       [ 0.80697782,  0.29596034],\n",
       "       [-0.32756589, -0.96413274],\n",
       "       [ 0.27009722, -0.12474436],\n",
       "       [-0.76212338, -0.66759742],\n",
       "       [ 1.24014011,  0.96403346],\n",
       "       [-0.0519767 , -1.11914678],\n",
       "       [-1.14477151, -0.38563083]])"
      ]
     },
     "execution_count": 184,
     "metadata": {},
     "output_type": "execute_result"
    }
   ],
   "source": [
    "X"
   ]
  },
  {
   "cell_type": "code",
   "execution_count": 185,
   "metadata": {},
   "outputs": [
    {
     "data": {
      "text/plain": [
       "[<matplotlib.lines.Line2D at 0x1168b3350>,\n",
       " <matplotlib.lines.Line2D at 0x116b280d0>]"
      ]
     },
     "execution_count": 185,
     "metadata": {},
     "output_type": "execute_result"
    }
   ],
   "source": [
    "plot(X)"
   ]
  },
  {
   "cell_type": "code",
   "execution_count": 186,
   "metadata": {},
   "outputs": [
    {
     "data": {
      "text/plain": [
       "[-10, 10, -10, 10]"
      ]
     },
     "execution_count": 186,
     "metadata": {},
     "output_type": "execute_result"
    }
   ],
   "source": [
    "clf(); axes().set_aspect('equal'); axis([-10,10,-10,10])"
   ]
  },
  {
   "cell_type": "code",
   "execution_count": 187,
   "metadata": {},
   "outputs": [
    {
     "data": {
      "text/plain": [
       "[<matplotlib.lines.Line2D at 0x116bb1310>]"
      ]
     },
     "execution_count": 187,
     "metadata": {},
     "output_type": "execute_result"
    }
   ],
   "source": [
    "plot(X[:,0], X[:,1], '+b')"
   ]
  },
  {
   "cell_type": "code",
   "execution_count": 188,
   "metadata": {},
   "outputs": [
    {
     "data": {
      "text/plain": [
       "array([[ 0.12491728,  0.6719976 ],\n",
       "       [ 0.12604374,  0.94512288],\n",
       "       [ 0.41796118,  0.72220964],\n",
       "       [ 0.88262918,  0.23090028],\n",
       "       [ 0.83165674,  0.42108933],\n",
       "       [ 0.36628563,  0.1905579 ],\n",
       "       [ 0.96681112,  0.98246465],\n",
       "       [ 0.69677657,  0.92529013],\n",
       "       [ 0.82449313,  0.73476266],\n",
       "       [ 0.65935073,  0.45264243]])"
      ]
     },
     "execution_count": 188,
     "metadata": {},
     "output_type": "execute_result"
    }
   ],
   "source": [
    "np.random.rand(10,2)"
   ]
  },
  {
   "cell_type": "code",
   "execution_count": 189,
   "metadata": {
    "collapsed": true
   },
   "outputs": [],
   "source": [
    "Y = np.random.rand(10,2)"
   ]
  },
  {
   "cell_type": "code",
   "execution_count": 190,
   "metadata": {},
   "outputs": [
    {
     "data": {
      "text/plain": [
       "[<matplotlib.lines.Line2D at 0x116bb1890>]"
      ]
     },
     "execution_count": 190,
     "metadata": {},
     "output_type": "execute_result"
    }
   ],
   "source": [
    "plot(Y[:,0], Y[:,1], '.r')"
   ]
  },
  {
   "cell_type": "code",
   "execution_count": 191,
   "metadata": {},
   "outputs": [
    {
     "data": {
      "text/plain": [
       "[-10, 10, -10, 10]"
      ]
     },
     "execution_count": 191,
     "metadata": {},
     "output_type": "execute_result"
    }
   ],
   "source": [
    "clf(); axes().set_aspect('equal'); axis([-10,10,-10,10])"
   ]
  },
  {
   "cell_type": "code",
   "execution_count": 192,
   "metadata": {
    "collapsed": true
   },
   "outputs": [],
   "source": [
    "X = np.random.randn(50,2)"
   ]
  },
  {
   "cell_type": "code",
   "execution_count": 195,
   "metadata": {
    "collapsed": true
   },
   "outputs": [],
   "source": [
    "def myplot(X, opts=\"\"):\n",
    "    plot(X[:,0], X[:,1], opts)"
   ]
  },
  {
   "cell_type": "code",
   "execution_count": 196,
   "metadata": {
    "collapsed": true
   },
   "outputs": [],
   "source": [
    "myplot(X)"
   ]
  },
  {
   "cell_type": "code",
   "execution_count": 197,
   "metadata": {},
   "outputs": [
    {
     "data": {
      "text/plain": [
       "[-10, 10, -10, 10]"
      ]
     },
     "execution_count": 197,
     "metadata": {},
     "output_type": "execute_result"
    }
   ],
   "source": [
    "clf(); axes().set_aspect('equal'); axis([-10,10,-10,10])"
   ]
  },
  {
   "cell_type": "code",
   "execution_count": 198,
   "metadata": {
    "collapsed": true
   },
   "outputs": [],
   "source": [
    "def myplot(X, opts=\".\"):\n",
    "    plot(X[:,0], X[:,1], opts)"
   ]
  },
  {
   "cell_type": "code",
   "execution_count": 199,
   "metadata": {
    "collapsed": true
   },
   "outputs": [],
   "source": [
    "myplot(X)"
   ]
  },
  {
   "cell_type": "code",
   "execution_count": 200,
   "metadata": {
    "collapsed": true
   },
   "outputs": [],
   "source": [
    "def myplot(X, opts=\".b\"):\n",
    "    x, y = X.T\n",
    "    plot(x, y, opts)"
   ]
  },
  {
   "cell_type": "code",
   "execution_count": 201,
   "metadata": {
    "collapsed": true
   },
   "outputs": [],
   "source": [
    "myplot(X)"
   ]
  },
  {
   "cell_type": "code",
   "execution_count": 202,
   "metadata": {},
   "outputs": [
    {
     "data": {
      "text/plain": [
       "array([[ 0.18841264, -1.83245892],\n",
       "       [-0.06828302, -0.65347585],\n",
       "       [ 1.17620834,  0.41352522],\n",
       "       [ 0.78222377,  0.45667559],\n",
       "       [ 1.29747983,  0.92106285],\n",
       "       [-0.19479863,  1.18388679],\n",
       "       [-0.09366568,  0.38390232],\n",
       "       [-2.10509228,  0.08479513],\n",
       "       [-0.3365187 , -1.19701218],\n",
       "       [ 0.62671504,  0.62120673],\n",
       "       [ 0.4289131 ,  1.79909917],\n",
       "       [ 0.67279892, -0.09742841],\n",
       "       [-0.57307848, -0.07627243],\n",
       "       [-0.66945148, -0.3052148 ],\n",
       "       [ 2.27913691,  0.61492526],\n",
       "       [-0.34809856, -0.22647503],\n",
       "       [ 0.96108136, -0.30135971],\n",
       "       [ 0.41103856, -0.43138698],\n",
       "       [ 0.77931948,  0.65973648],\n",
       "       [ 3.22357636, -0.66812822],\n",
       "       [ 1.07895742,  0.84848122],\n",
       "       [ 2.52056042, -0.73723895],\n",
       "       [-1.94124149,  1.13834404],\n",
       "       [-0.05614673, -0.68359579],\n",
       "       [-0.11812002, -0.68222464],\n",
       "       [-0.66070355,  0.43476077],\n",
       "       [ 0.30208623, -0.22129952],\n",
       "       [ 0.17354976, -2.44565873],\n",
       "       [ 0.2137391 ,  2.079129  ],\n",
       "       [-1.31849309, -0.9609606 ],\n",
       "       [-1.73624918, -1.20979203],\n",
       "       [-0.50469089, -0.79794611],\n",
       "       [ 1.24441495,  0.0710455 ],\n",
       "       [-0.80650605, -0.70072023],\n",
       "       [-0.76742007, -0.27910489],\n",
       "       [-1.89957642,  0.8567737 ],\n",
       "       [-1.6468677 , -0.79723294],\n",
       "       [ 0.34908032, -0.52231763],\n",
       "       [ 1.18568221, -0.07677026],\n",
       "       [ 0.70713294,  0.65182404],\n",
       "       [-1.71932226, -1.18214504],\n",
       "       [ 1.13593056,  0.72892513],\n",
       "       [ 1.22006054, -1.24892873],\n",
       "       [ 1.04063387, -1.96931208],\n",
       "       [-1.70654753, -0.1641485 ],\n",
       "       [-0.44836899,  0.09575427],\n",
       "       [-0.76417066, -1.13936581],\n",
       "       [-0.02719093,  0.99033201],\n",
       "       [-0.79705992, -1.86965767],\n",
       "       [ 0.49287219,  0.84283875]])"
      ]
     },
     "execution_count": 202,
     "metadata": {},
     "output_type": "execute_result"
    }
   ],
   "source": [
    "X"
   ]
  },
  {
   "cell_type": "code",
   "execution_count": 203,
   "metadata": {},
   "outputs": [
    {
     "data": {
      "text/plain": [
       "array([[ 0.18841264, -0.06828302,  1.17620834,  0.78222377,  1.29747983,\n",
       "        -0.19479863, -0.09366568, -2.10509228, -0.3365187 ,  0.62671504,\n",
       "         0.4289131 ,  0.67279892, -0.57307848, -0.66945148,  2.27913691,\n",
       "        -0.34809856,  0.96108136,  0.41103856,  0.77931948,  3.22357636,\n",
       "         1.07895742,  2.52056042, -1.94124149, -0.05614673, -0.11812002,\n",
       "        -0.66070355,  0.30208623,  0.17354976,  0.2137391 , -1.31849309,\n",
       "        -1.73624918, -0.50469089,  1.24441495, -0.80650605, -0.76742007,\n",
       "        -1.89957642, -1.6468677 ,  0.34908032,  1.18568221,  0.70713294,\n",
       "        -1.71932226,  1.13593056,  1.22006054,  1.04063387, -1.70654753,\n",
       "        -0.44836899, -0.76417066, -0.02719093, -0.79705992,  0.49287219],\n",
       "       [-1.83245892, -0.65347585,  0.41352522,  0.45667559,  0.92106285,\n",
       "         1.18388679,  0.38390232,  0.08479513, -1.19701218,  0.62120673,\n",
       "         1.79909917, -0.09742841, -0.07627243, -0.3052148 ,  0.61492526,\n",
       "        -0.22647503, -0.30135971, -0.43138698,  0.65973648, -0.66812822,\n",
       "         0.84848122, -0.73723895,  1.13834404, -0.68359579, -0.68222464,\n",
       "         0.43476077, -0.22129952, -2.44565873,  2.079129  , -0.9609606 ,\n",
       "        -1.20979203, -0.79794611,  0.0710455 , -0.70072023, -0.27910489,\n",
       "         0.8567737 , -0.79723294, -0.52231763, -0.07677026,  0.65182404,\n",
       "        -1.18214504,  0.72892513, -1.24892873, -1.96931208, -0.1641485 ,\n",
       "         0.09575427, -1.13936581,  0.99033201, -1.86965767,  0.84283875]])"
      ]
     },
     "execution_count": 203,
     "metadata": {},
     "output_type": "execute_result"
    }
   ],
   "source": [
    "X.T"
   ]
  },
  {
   "cell_type": "code",
   "execution_count": 204,
   "metadata": {
    "collapsed": true
   },
   "outputs": [],
   "source": [
    "a = np.random.randn(5,2)"
   ]
  },
  {
   "cell_type": "code",
   "execution_count": 205,
   "metadata": {},
   "outputs": [
    {
     "data": {
      "text/plain": [
       "array([[ 0.0484303 , -0.24615505],\n",
       "       [-0.88082047, -0.90812359],\n",
       "       [-1.45403503,  0.44370809],\n",
       "       [ 0.39714658, -0.94192874],\n",
       "       [-1.05795811,  0.7972823 ]])"
      ]
     },
     "execution_count": 205,
     "metadata": {},
     "output_type": "execute_result"
    }
   ],
   "source": [
    "a"
   ]
  },
  {
   "cell_type": "code",
   "execution_count": 206,
   "metadata": {},
   "outputs": [
    {
     "data": {
      "text/plain": [
       "array([[ 0.0484303 , -0.88082047, -1.45403503,  0.39714658, -1.05795811],\n",
       "       [-0.24615505, -0.90812359,  0.44370809, -0.94192874,  0.7972823 ]])"
      ]
     },
     "execution_count": 206,
     "metadata": {},
     "output_type": "execute_result"
    }
   ],
   "source": [
    "a.T"
   ]
  },
  {
   "cell_type": "code",
   "execution_count": 207,
   "metadata": {
    "collapsed": true
   },
   "outputs": [],
   "source": [
    "x,y = a.T"
   ]
  },
  {
   "cell_type": "code",
   "execution_count": 208,
   "metadata": {},
   "outputs": [
    {
     "data": {
      "text/plain": [
       "array([ 0.0484303 , -0.88082047, -1.45403503,  0.39714658, -1.05795811])"
      ]
     },
     "execution_count": 208,
     "metadata": {},
     "output_type": "execute_result"
    }
   ],
   "source": [
    "x"
   ]
  },
  {
   "cell_type": "code",
   "execution_count": 209,
   "metadata": {},
   "outputs": [
    {
     "data": {
      "text/plain": [
       "array([-0.24615505, -0.90812359,  0.44370809, -0.94192874,  0.7972823 ])"
      ]
     },
     "execution_count": 209,
     "metadata": {},
     "output_type": "execute_result"
    }
   ],
   "source": [
    "y"
   ]
  },
  {
   "cell_type": "code",
   "execution_count": 210,
   "metadata": {},
   "outputs": [
    {
     "data": {
      "text/plain": [
       "[-10, 10, -10, 10]"
      ]
     },
     "execution_count": 210,
     "metadata": {},
     "output_type": "execute_result"
    }
   ],
   "source": [
    "clf(); axes().set_aspect('equal'); axis([-10,10,-10,10])"
   ]
  },
  {
   "cell_type": "code",
   "execution_count": 211,
   "metadata": {
    "collapsed": true
   },
   "outputs": [],
   "source": [
    "myplot(X*10)"
   ]
  },
  {
   "cell_type": "code",
   "execution_count": 212,
   "metadata": {
    "collapsed": true
   },
   "outputs": [],
   "source": [
    "myplot(X*5)"
   ]
  },
  {
   "cell_type": "code",
   "execution_count": 213,
   "metadata": {},
   "outputs": [
    {
     "data": {
      "text/plain": [
       "[-10, 10, -10, 10]"
      ]
     },
     "execution_count": 213,
     "metadata": {},
     "output_type": "execute_result"
    }
   ],
   "source": [
    "clf(); axes().set_aspect('equal'); axis([-10,10,-10,10])"
   ]
  },
  {
   "cell_type": "code",
   "execution_count": 214,
   "metadata": {
    "collapsed": true
   },
   "outputs": [],
   "source": [
    "myplot(X*5)"
   ]
  },
  {
   "cell_type": "code",
   "execution_count": 215,
   "metadata": {},
   "outputs": [
    {
     "data": {
      "text/plain": [
       "[-10, 10, -10, 10]"
      ]
     },
     "execution_count": 215,
     "metadata": {},
     "output_type": "execute_result"
    }
   ],
   "source": [
    "clf(); axes().set_aspect('equal'); axis([-10,10,-10,10])"
   ]
  },
  {
   "cell_type": "code",
   "execution_count": 216,
   "metadata": {
    "collapsed": true
   },
   "outputs": [],
   "source": [
    "myplot(X*2)"
   ]
  },
  {
   "cell_type": "code",
   "execution_count": 217,
   "metadata": {},
   "outputs": [
    {
     "data": {
      "text/plain": [
       "[-10, 10, -10, 10]"
      ]
     },
     "execution_count": 217,
     "metadata": {},
     "output_type": "execute_result"
    }
   ],
   "source": [
    "clf(); axes().set_aspect('equal'); axis([-10,10,-10,10])"
   ]
  },
  {
   "cell_type": "code",
   "execution_count": 218,
   "metadata": {
    "collapsed": true
   },
   "outputs": [],
   "source": [
    "myplot(np.random.randn(1000,2)*2)"
   ]
  },
  {
   "cell_type": "code",
   "execution_count": 219,
   "metadata": {},
   "outputs": [
    {
     "data": {
      "text/plain": [
       "[-10, 10, -10, 10]"
      ]
     },
     "execution_count": 219,
     "metadata": {},
     "output_type": "execute_result"
    }
   ],
   "source": [
    "clf(); axes().set_aspect('equal'); axis([-10,10,-10,10])"
   ]
  },
  {
   "cell_type": "code",
   "execution_count": 220,
   "metadata": {
    "collapsed": true
   },
   "outputs": [],
   "source": [
    "X = np.random.randn(1000,2)*5; myplot(X)"
   ]
  },
  {
   "cell_type": "code",
   "execution_count": 221,
   "metadata": {
    "collapsed": true
   },
   "outputs": [],
   "source": [
    "w = np.array([1,1])"
   ]
  },
  {
   "cell_type": "code",
   "execution_count": 222,
   "metadata": {
    "collapsed": true
   },
   "outputs": [],
   "source": [
    "arrow((0,0),w, 'r')"
   ]
  },
  {
   "cell_type": "code",
   "execution_count": 223,
   "metadata": {},
   "outputs": [
    {
     "data": {
      "text/plain": [
       "array([[ 1.07417723, -4.71410298],\n",
       "       [-5.21825501,  4.37419835],\n",
       "       [-3.63562451,  3.70788115],\n",
       "       ..., \n",
       "       [-5.49917844,  3.72759038],\n",
       "       [-0.56394384, -1.58211965],\n",
       "       [ 1.44803264,  4.22161979]])"
      ]
     },
     "execution_count": 223,
     "metadata": {},
     "output_type": "execute_result"
    }
   ],
   "source": [
    "X"
   ]
  },
  {
   "cell_type": "code",
   "execution_count": 224,
   "metadata": {},
   "outputs": [
    {
     "data": {
      "text/plain": [
       "array([ -3.63992574e+00,  -8.44056658e-01,   7.22566408e-02,\n",
       "        -7.87192338e+00,  -7.51800310e+00,   1.35768399e+00,\n",
       "        -1.33784009e+00,  -7.22808805e+00,   1.74774284e+00,\n",
       "         1.53066215e+01,   3.94288602e+00,   4.82772760e+00,\n",
       "         2.62795227e+00,   7.25264849e+00,   9.73993780e+00,\n",
       "        -1.00493003e+01,  -1.00783748e+00,   7.70626656e+00,\n",
       "         1.41084770e+01,   1.79130304e+00,   9.24906724e+00,\n",
       "         1.16112599e+01,   1.19679841e+01,   3.53902690e+00,\n",
       "        -3.95158251e+00,  -1.23057482e+01,   6.40794182e+00,\n",
       "         1.02753789e+01,   1.98501249e+00,   9.39292611e-01,\n",
       "        -8.30016071e-01,  -4.49167194e+00,   2.94446375e+00,\n",
       "         1.68151714e+00,   3.46344941e+00,   6.08161322e-01,\n",
       "        -1.89224638e+00,   2.59292749e+00,   5.32580735e+00,\n",
       "        -1.60419312e+00,   4.03498473e+00,   4.06426736e-01,\n",
       "        -6.46533584e+00,   5.42519639e-01,  -1.07550140e+01,\n",
       "        -1.91101629e+00,   1.15798929e+01,  -8.36379163e+00,\n",
       "         5.25852563e+00,  -1.06723239e+01,   9.54272082e+00,\n",
       "         6.38600324e+00,  -8.79361489e+00,   7.05059135e+00,\n",
       "        -6.82087008e+00,   5.74705817e+00,  -6.66469804e+00,\n",
       "         3.13453221e+00,   1.13079475e+01,   4.19244614e+00,\n",
       "         1.01339836e+00,   1.96541328e+00,  -1.22314486e+01,\n",
       "         3.86422968e+00,  -9.78201968e+00,   9.74133716e+00,\n",
       "        -1.20034301e+01,   5.35388196e+00,  -3.02187958e+00,\n",
       "         2.37203859e+00,  -5.49479496e+00,   3.35133724e+00,\n",
       "         3.60274717e+00,   3.74197807e+00,  -5.12082915e-01,\n",
       "        -9.11798926e+00,  -1.27066317e+00,   1.32186674e+01,\n",
       "        -7.74572275e+00,   4.97732439e+00,  -4.70549312e+00,\n",
       "         5.69076632e+00,  -6.49163655e+00,  -5.99942759e+00,\n",
       "        -3.87251281e+00,  -1.96748081e+00,   2.89760892e+00,\n",
       "        -1.32583171e+01,  -1.12266063e+00,  -6.54385566e+00,\n",
       "         1.16539480e+01,   1.90250286e+01,  -1.54292051e+00,\n",
       "         5.65696525e+00,   6.00337573e+00,   1.55525147e+01,\n",
       "         1.10316185e+01,  -7.02498909e+00,   4.48409725e+00,\n",
       "         7.39086620e+00,  -7.99527135e+00,   1.52572908e+00,\n",
       "         5.08635337e+00,   6.24881536e+00,  -3.61013906e+00,\n",
       "         1.56345649e+01,   1.06118042e+01,  -1.74753569e+00,\n",
       "        -5.69331956e+00,  -8.17598800e+00,   5.87787465e+00,\n",
       "        -1.07006207e+01,  -1.27189744e+01,  -8.79975192e+00,\n",
       "        -5.19080132e+00,  -3.68473315e+00,   8.28460260e-01,\n",
       "        -2.24070684e+00,   1.81618778e+00,   1.09948957e+01,\n",
       "         6.16240551e+00,  -6.00606485e+00,  -7.56928734e+00,\n",
       "        -5.37148090e+00,  -5.12159111e+00,   1.29829223e+00,\n",
       "        -1.28709591e+01,  -1.42614643e+00,  -1.10614296e+01,\n",
       "         1.38954271e+00,  -9.30806513e+00,   5.77623952e+00,\n",
       "         3.15731169e+00,   7.30611068e-01,  -3.73579319e+00,\n",
       "         1.26920886e+00,   3.10634810e-01,   6.32759831e+00,\n",
       "        -3.47587794e-01,  -3.90639757e+00,  -2.32397533e-01,\n",
       "         6.42974191e+00,   1.52923135e+01,  -1.39286818e+00,\n",
       "         1.26129488e+00,  -4.19770498e+00,  -5.08370196e+00,\n",
       "        -5.44907697e+00,   3.55318613e+00,  -1.37002884e+01,\n",
       "        -2.83371154e+00,  -1.13589084e+01,  -6.03599116e+00,\n",
       "         2.42028690e+00,  -1.03768451e+00,   2.77212971e-01,\n",
       "         1.43191466e+00,   3.07815953e+00,   5.11142936e+00,\n",
       "        -1.78591820e+01,  -6.96737321e+00,  -5.98158946e+00,\n",
       "         8.62251579e+00,   3.62425694e+00,  -9.53530721e+00,\n",
       "         6.74329394e+00,   1.14718581e+01,  -8.84430801e+00,\n",
       "        -2.18869716e+00,   1.15261588e+01,  -1.95731767e+01,\n",
       "        -5.19990784e+00,  -3.56930670e+00,   1.21764159e+00,\n",
       "         9.42971693e+00,   3.97784715e+00,  -8.47730635e-01,\n",
       "        -1.22265257e+01,   7.01541296e+00,   4.23106860e+00,\n",
       "        -8.93395848e+00,  -1.42534684e+01,   3.76132084e+00,\n",
       "        -9.04240961e-01,  -9.41860649e+00,  -6.24119303e+00,\n",
       "         1.08630317e+01,  -4.36834153e+00,   1.66507689e+01,\n",
       "        -2.59719593e+00,   1.00391444e+01,   5.97034498e+00,\n",
       "        -5.00920199e+00,  -4.82886204e+00,  -1.06605741e+01,\n",
       "        -4.35783321e+00,   5.32265267e+00,   1.01936314e+01,\n",
       "         1.31708740e+01,   2.36734406e+00,   2.18218379e+00,\n",
       "         2.26788995e+00,   1.49055375e+01,   1.67456773e+00,\n",
       "         9.24972974e+00,  -7.40992490e-01,  -7.15975885e+00,\n",
       "        -2.23341595e+00,  -3.81248250e+00,  -7.14877055e-01,\n",
       "         7.45800179e-01,   6.74770450e+00,  -5.38433351e+00,\n",
       "        -9.05503290e+00,  -1.04986739e+01,  -1.00419277e+01,\n",
       "        -5.16170038e+00,  -7.35668549e+00,   7.40556944e+00,\n",
       "        -1.11571748e+01,   1.41276312e+00,  -8.99174987e+00,\n",
       "         7.53565574e+00,  -8.20876324e+00,  -5.97167008e+00,\n",
       "        -1.08117566e+00,  -1.75557897e+01,  -3.93657734e-01,\n",
       "        -1.37884619e+01,   1.83509218e+00,   5.53169043e+00,\n",
       "         4.52533802e+00,   3.20525229e+00,   9.10145358e-01,\n",
       "         3.17674108e+00,   7.40711577e+00,  -1.37387978e+01,\n",
       "        -1.39560531e+00,   8.59867418e+00,  -1.34129687e+00,\n",
       "        -3.31689906e+00,   3.00277599e+00,  -9.27195800e-01,\n",
       "        -1.40793133e+01,  -6.35442892e-01,  -4.14428742e+00,\n",
       "         9.47416391e+00,   3.99468272e+00,   1.89179479e+00,\n",
       "         5.25375979e+00,  -8.52776801e+00,  -1.95350346e+00,\n",
       "         6.99629347e+00,   2.87310803e+00,   6.35286987e+00,\n",
       "        -9.60334543e-01,   3.33744865e+00,  -9.08963482e+00,\n",
       "        -5.62364113e+00,   2.14601750e+00,   1.22413752e+01,\n",
       "         1.43278950e+00,   8.26211378e+00,   5.87041066e+00,\n",
       "        -1.53093926e+01,   7.33643524e+00,   6.39343259e+00,\n",
       "        -2.18934678e+00,   4.74346557e+00,   7.35441481e+00,\n",
       "         1.15153304e+00,   8.15261309e+00,  -1.37056547e+01,\n",
       "         9.82624242e+00,   2.09044909e+01,   1.23300498e+01,\n",
       "         1.10713903e+01,   1.12392942e+01,   1.09634568e+01,\n",
       "         3.12024011e+00,  -3.87902526e+00,  -4.33614077e+00,\n",
       "         8.51972571e+00,   4.58045495e+00,  -7.30525983e-01,\n",
       "        -2.84417857e+00,   4.93790152e-01,  -1.49543635e+01,\n",
       "         1.12307212e+01,  -2.69990675e+00,  -8.21269484e+00,\n",
       "        -4.25970091e+00,   7.87505506e+00,   2.39291710e+00,\n",
       "         1.00369919e+01,   2.05434333e-01,  -8.76449805e+00,\n",
       "         3.03490239e+00,  -2.35210322e-02,   3.66141568e+00,\n",
       "        -1.42732811e+01,   3.30497682e+00,   1.63513605e+00,\n",
       "         1.12909763e+00,  -9.32245666e-01,   2.43684774e+00,\n",
       "         1.02129029e+00,   6.87405193e+00,   3.29544693e+00,\n",
       "        -2.93666319e-01,   4.29940338e+00,  -6.77180662e-01,\n",
       "         3.11786576e+00,  -1.21332720e+01,  -6.80119976e-01,\n",
       "        -1.53672900e+01,  -6.54332358e+00,   1.32876124e+00,\n",
       "         1.49454370e+00,  -6.63517329e-01,   1.27712445e+00,\n",
       "        -6.93641652e+00,  -3.86977504e+00,   7.54663518e+00,\n",
       "         5.56605210e+00,  -6.74383440e+00,  -1.05954596e+01,\n",
       "         2.52302679e+00,   9.15204305e-02,  -5.37340636e+00,\n",
       "         7.46540921e+00,  -5.67533077e+00,   1.80236473e+00,\n",
       "        -8.03113919e+00,   9.67382207e+00,  -4.70177743e+00,\n",
       "         4.54860055e+00,  -4.00137992e+00,  -3.35687116e+00,\n",
       "        -3.31039873e-01,   2.48770995e-01,   1.11535285e+01,\n",
       "        -5.50885559e-01,   1.45424773e+01,   1.22250016e+01,\n",
       "        -1.04666081e+00,  -9.29408520e+00,  -7.67773151e+00,\n",
       "        -5.20711414e+00,   5.74977817e+00,  -3.22464285e+00,\n",
       "        -9.15996235e-01,  -4.20905165e+00,   3.61281905e+00,\n",
       "         1.49507283e+00,   1.99870725e+00,  -4.40997923e-01,\n",
       "        -3.28028764e-01,  -3.81877179e+00,   1.49564823e+00,\n",
       "        -3.05559563e+00,  -3.06931413e+00,  -8.95785863e+00,\n",
       "        -7.38479020e+00,  -2.25954465e+00,   6.61904886e+00,\n",
       "         1.98387124e+00,  -7.55178423e+00,   7.04372899e+00,\n",
       "         1.72563294e+00,  -7.44922227e+00,   3.67751021e-01,\n",
       "        -1.27886641e+00,  -4.91379914e+00,   2.28290690e-01,\n",
       "         1.06441070e+01,  -7.65445211e+00,   1.18116739e+01,\n",
       "        -4.35793728e+00,  -5.37687516e+00,  -8.22894539e+00,\n",
       "         5.72309778e+00,   3.92479334e-01,  -3.22175247e-01,\n",
       "         9.70900951e+00,   1.84116250e+00,   1.78446828e+01,\n",
       "         2.16782191e+00,   5.97041061e-01,  -6.25659891e+00,\n",
       "         6.38031963e-01,   5.00650237e+00,   1.02852377e+01,\n",
       "        -8.62330606e+00,  -1.52584681e+00,  -1.27325388e+00,\n",
       "        -1.65294869e+00,   2.63781945e+00,   9.21168866e+00,\n",
       "        -6.15358958e+00,   2.46382344e+00,   1.31103559e+00,\n",
       "        -5.54941417e+00,  -6.21413680e+00,   1.14801273e+00,\n",
       "         5.08616873e+00,  -3.50848007e+00,  -6.26444950e+00,\n",
       "        -5.15105023e+00,   7.28587963e+00,  -6.06745103e+00,\n",
       "         3.78139462e+00,  -1.06432668e+00,  -5.03123185e+00,\n",
       "        -2.08680325e+00,  -7.13610119e-01,  -1.11111971e+01,\n",
       "        -5.82271924e+00,  -1.98759086e+00,  -5.57204796e-01,\n",
       "        -1.21355645e+01,   5.13581309e+00,  -5.63348629e+00,\n",
       "        -1.46046413e+00,   1.32845761e+01,  -7.12922190e+00,\n",
       "         8.35221543e+00,   2.08217463e+00,   1.10086434e+00,\n",
       "         1.06882783e+01,  -5.07661064e+00,   3.29439678e+00,\n",
       "        -4.46373499e+00,   6.56661113e+00,  -4.05871013e+00,\n",
       "        -1.04242105e+00,   6.74058548e+00,  -6.55660612e+00,\n",
       "        -7.49389806e-01,   2.80569574e+00,  -6.87597384e+00,\n",
       "        -7.35882183e+00,  -1.37014205e+00,   6.40598654e-01,\n",
       "        -7.75578511e-01,   9.63279407e+00,  -6.26629075e+00,\n",
       "         1.56364831e+01,   8.44020209e-01,  -4.83625171e+00,\n",
       "        -1.34899459e+01,  -2.74685840e+00,   3.84474206e-01,\n",
       "        -4.07068242e+00,  -5.99727297e+00,   1.05894733e+00,\n",
       "        -5.76123570e+00,  -5.69949131e+00,  -1.65778376e+01,\n",
       "         4.68522791e+00,   1.95282792e+00,  -6.75235130e-01,\n",
       "        -5.30228156e+00,   6.00908595e+00,  -6.31059314e+00,\n",
       "         1.57349273e+01,   7.99313561e+00,   6.11398266e+00,\n",
       "         1.55136141e+01,  -1.22253766e+01,   5.48150711e+00,\n",
       "        -6.82294153e-01,  -8.99754768e+00,   6.55609112e+00,\n",
       "        -1.95858309e+00,   4.14387189e+00,  -3.12848938e+00,\n",
       "         7.29308584e+00,   6.76939125e+00,  -6.05852366e+00,\n",
       "        -8.06896560e+00,  -9.49315693e-03,   7.96675586e-01,\n",
       "         4.21807907e-01,  -3.70392252e+00,  -1.15615698e+00,\n",
       "         3.12637454e+00,   3.98361862e+00,  -1.66970768e+00,\n",
       "         4.14085561e+00,   7.02366506e+00,  -9.51332220e+00,\n",
       "         1.11203328e+01,  -1.14004171e+01,  -9.61190190e-01,\n",
       "        -5.99097015e+00,   7.87918312e+00,   7.15509870e+00,\n",
       "        -1.44403033e+00,  -7.28597653e+00,   6.63049886e+00,\n",
       "        -1.09407666e+01,  -1.17591008e+01,  -1.17406143e+01,\n",
       "         2.59442576e+00,  -5.54332796e+00,   1.12957003e+01,\n",
       "        -8.79322510e-01,  -1.84934436e+00,   5.90753348e+00,\n",
       "         8.84444569e-01,   6.55902563e+00,   1.28290522e+01,\n",
       "        -4.43769030e+00,  -7.23519761e+00,   6.62380422e+00,\n",
       "        -1.15843680e+01,   5.48585074e-01,   5.17670651e+00,\n",
       "         4.45614262e+00,   4.49874605e+00,  -4.99172969e+00,\n",
       "        -2.17063423e+00,  -9.33205033e-01,  -7.62606071e+00,\n",
       "         4.18621881e+00,   1.20847697e-01,  -4.03786709e-01,\n",
       "        -1.37788584e+00,   6.05636109e+00,   3.93922980e+00,\n",
       "         5.51860256e+00,   6.03608193e+00,   6.74909305e+00,\n",
       "         3.85452136e+00,   3.83790515e+00,   6.73268832e-01,\n",
       "         2.10522921e+00,   2.01646368e+00,   5.26510427e+00,\n",
       "        -1.79769326e-01,   1.85098948e+00,   2.96473546e+00,\n",
       "        -2.47707399e+00,   7.86066965e+00,   1.39704454e+01,\n",
       "        -4.49436163e+00,   6.64697957e+00,  -5.54905355e+00,\n",
       "         5.58261070e+00,  -1.00740377e+01,   3.99178134e+00,\n",
       "        -8.73510443e+00,   9.18586560e+00,   6.88506766e+00,\n",
       "         3.20217802e+00,   1.90840724e-01,  -6.10083750e+00,\n",
       "        -3.44442588e+00,  -1.19018980e+00,   4.11169178e+00,\n",
       "         1.85176273e-01,   1.48995929e+00,  -1.32740213e+00,\n",
       "         4.98617714e+00,   5.70898723e-02,   1.23281732e+01,\n",
       "        -1.40886753e-01,   2.98370511e-01,   2.55000488e+00,\n",
       "        -1.07337495e+01,  -1.09147340e+01,   6.97745681e+00,\n",
       "         1.06872326e+01,  -1.33791906e+01,   6.42142330e-01,\n",
       "         7.20050129e+00,   5.30748953e+00,  -4.04792332e+00,\n",
       "        -6.34707355e+00,  -5.08968264e+00,  -6.92208478e-01,\n",
       "         3.38030928e+00,   2.30084777e+00,  -1.94184678e+00,\n",
       "        -7.84539787e+00,   6.14425775e+00,  -3.42079866e+00,\n",
       "        -1.37291850e+00,  -5.72032389e+00,  -1.02777135e+00,\n",
       "        -2.84237322e+00,   3.35242487e+00,  -9.79411590e+00,\n",
       "         9.94213793e-01,  -7.79730492e+00,   3.97512470e+00,\n",
       "        -5.93670226e+00,  -1.36004482e+01,  -9.14836569e+00,\n",
       "         2.45124935e+00,   2.15680508e+00,  -6.87506987e+00,\n",
       "         8.40108901e+00,  -1.10154322e+01,  -1.26650974e+00,\n",
       "        -5.32898790e+00,   3.59497794e+00,   1.07015582e+01,\n",
       "         4.19154558e+00,  -8.23033061e+00,  -1.18963157e+01,\n",
       "        -1.39662954e+00,  -4.86819937e-01,  -2.79274682e+00,\n",
       "        -5.38918212e+00,   1.09025322e-01,  -9.90272386e-01,\n",
       "         4.08584300e+00,  -4.15971724e+00,   5.65537332e+00,\n",
       "        -7.99767908e+00,  -1.29480040e+00,   4.40194047e+00,\n",
       "         2.56193616e+00,   1.42743435e+01,  -1.69114157e+00,\n",
       "         1.19134152e+01,   5.87996129e+00,  -2.95624610e+00,\n",
       "         2.53237805e+00,   8.99942413e+00,  -6.88516350e-01,\n",
       "         1.11627626e+01,   1.03190666e+01,  -7.27907201e-01,\n",
       "         4.76993407e+00,  -1.08344500e+01,  -1.89861533e+00,\n",
       "         2.82540345e-01,   7.36493907e+00,   8.66948619e+00,\n",
       "         3.24690512e-01,   1.42379382e+01,   1.68582783e+00,\n",
       "         3.09264517e+00,  -1.14839600e+01,  -1.00751324e+01,\n",
       "         8.74538690e+00,   7.57171382e+00,   8.07815973e+00,\n",
       "         1.69002195e+01,  -5.62574189e+00,   1.13657531e+01,\n",
       "         2.24471339e+00,   1.89131825e+00,   4.01903327e+00,\n",
       "        -7.33388031e+00,   1.49897081e+01,   1.72859270e+00,\n",
       "         4.37294790e+00,   7.55978960e+00,  -9.20900498e+00,\n",
       "         2.14762541e+00,   1.03987768e+01,   8.13375734e+00,\n",
       "        -1.32699656e+01,   6.37531518e-01,   6.95858803e-01,\n",
       "        -3.06197367e+00,   1.87663260e+00,  -2.24896494e+00,\n",
       "         1.34193506e+00,   4.85826666e+00,  -1.10138293e+01,\n",
       "         7.33862599e+00,  -2.36795019e+00,  -1.04664718e+01,\n",
       "         2.18000717e+00,   5.59212976e+00,   5.17416595e+00,\n",
       "         1.00840213e+01,  -3.36854814e+00,   8.01227392e+00,\n",
       "         1.01912234e+01,   4.19499393e+00,  -1.01043838e+01,\n",
       "         4.72946698e+00,  -1.21236476e+00,   5.96050491e+00,\n",
       "         4.36662146e+00,  -1.09492150e+00,  -4.88700762e+00,\n",
       "        -5.00787048e+00,   1.23773056e+01,   6.58482263e+00,\n",
       "         3.66968770e+00,   6.39953320e+00,   1.47908286e+01,\n",
       "         7.11378728e+00,  -7.80895397e+00,   4.19437213e+00,\n",
       "        -8.15003399e+00,  -1.37030296e+01,   7.49663064e+00,\n",
       "         7.73298507e+00,   6.36576831e+00,  -1.27130720e+01,\n",
       "         1.08997766e+00,   3.24299891e+00,  -4.63611129e+00,\n",
       "         2.84160688e+00,   2.19222147e-01,   5.45066787e+00,\n",
       "         3.23107689e+00,   9.98315604e+00,   4.12802719e+00,\n",
       "         7.00680073e+00,  -4.05087772e-01,   3.90583945e+00,\n",
       "        -9.71573566e+00,  -1.39354045e+01,   2.51499814e+00,\n",
       "         4.64776956e+00,   2.21085640e+00,   3.21203874e+00,\n",
       "         7.08483635e+00,  -7.23341920e+00,  -6.74017532e+00,\n",
       "        -3.27113570e+00,   7.04124914e+00,  -9.15124006e+00,\n",
       "        -4.66705762e+00,   7.62878094e+00,  -9.53311269e+00,\n",
       "        -1.25958485e+01,  -9.84462108e+00,   6.56748527e+00,\n",
       "         1.65217411e+00,   9.58833089e+00,  -5.13323343e+00,\n",
       "         6.98658476e+00,  -7.09867673e+00,   1.13872765e+01,\n",
       "        -2.74461471e+00,   4.87506077e+00,   8.04589022e+00,\n",
       "         7.07507541e+00,  -8.26718454e+00,   5.55814731e+00,\n",
       "        -1.24560049e+01,   1.10411805e+01,   5.20954080e+00,\n",
       "        -5.55355762e+00,  -1.35439101e+01,  -8.13599066e+00,\n",
       "        -3.29675132e+00,  -6.91087672e-01,  -1.91946231e+00,\n",
       "         3.34420250e+00,  -3.96648425e+00,  -7.17231025e+00,\n",
       "        -1.21008039e+01,   6.08720716e+00,   7.12211654e+00,\n",
       "         1.33085018e+01,  -8.81628873e+00,   1.36776621e+01,\n",
       "         3.32379533e+00,  -7.62207497e+00,  -1.00387156e+00,\n",
       "         1.03742733e+01,  -7.95537358e+00,  -1.30529458e+01,\n",
       "        -1.66464544e+00,  -2.06199769e-01,   1.61231085e+00,\n",
       "         5.02298342e+00,   1.42359831e+01,  -5.58720473e+00,\n",
       "        -3.73460376e+00,   8.44968214e+00,   4.15081498e-01,\n",
       "        -2.95527276e+00,  -3.86433631e+00,   9.29217525e+00,\n",
       "         2.61061297e+00,  -7.26477528e+00,  -1.99571755e+01,\n",
       "         5.91395088e+00,   3.50654915e+00,  -6.60762694e+00,\n",
       "         2.45115118e+00,  -1.71214717e+01,  -4.71856336e+00,\n",
       "        -1.79968824e+00,   7.10009213e+00,  -4.92788592e+00,\n",
       "         2.51212106e-02,   8.20691317e+00,  -4.45362077e+00,\n",
       "         2.08523134e-01,   2.76397599e+00,   5.62338736e+00,\n",
       "         1.21757248e+00,   4.44337692e+00,  -1.40885602e+01,\n",
       "         2.83484775e+00,   1.20244846e+01,  -3.36774073e+00,\n",
       "        -4.46562660e+00,  -8.08334439e+00,   1.23822904e+01,\n",
       "         3.51668041e+00,   6.39317183e+00,   5.62670274e+00,\n",
       "         1.28220014e+01,  -1.02108586e+01,   8.20840000e+00,\n",
       "         2.76895831e+00,  -2.26127272e+00,  -1.58094236e+01,\n",
       "        -2.73245445e+00,   4.24246580e+00,   9.51356178e+00,\n",
       "         9.57642684e-01,  -6.69657158e-01,   2.18253039e+00,\n",
       "         4.85825764e-02,  -1.33419101e+01,   9.39159035e+00,\n",
       "        -2.12373037e+00,   3.66346179e+00,   1.39116874e+00,\n",
       "         1.21126953e+01,  -1.54893623e+00,   8.18413276e-01,\n",
       "         1.44788525e+01,   1.34392574e+01,   1.13937254e+00,\n",
       "         7.31722504e+00,   8.51916786e-01,   9.88322792e+00,\n",
       "        -2.84500784e+00,  -1.74159622e+01,  -8.22531009e+00,\n",
       "         7.90450672e+00,  -1.93827315e+00,  -1.37395642e+01,\n",
       "        -1.42557128e+01,   5.37874151e+00,   1.16828006e+01,\n",
       "        -5.24258752e-01,   1.60335370e+00,  -4.98430847e-01,\n",
       "         2.09218943e+00,   3.58708727e+00,   3.87444340e+00,\n",
       "        -7.75044284e+00,   4.84041506e+00,   1.76552674e+00,\n",
       "        -9.64552357e+00,  -1.07506309e+01,   1.03641314e+01,\n",
       "         8.67803029e+00,   1.56109186e+01,  -1.06067852e+01,\n",
       "         7.97287449e+00,   2.30007751e+00,  -2.61363846e+00,\n",
       "        -6.36887201e+00,  -7.58454409e+00,  -2.87467701e+00,\n",
       "        -4.26417633e+00,  -6.92125464e+00,   1.14195184e+00,\n",
       "         4.59644921e+00,  -5.98194193e+00,   7.37221949e+00,\n",
       "        -9.27871083e+00,  -6.45665240e+00,   3.68422048e+00,\n",
       "         6.61511635e+00,   1.29420001e+01,   7.21872988e+00,\n",
       "        -1.84992863e+00,  -6.03334809e+00,  -6.76682199e+00,\n",
       "         1.12086446e+01,  -4.14645430e+00,   4.74460546e+00,\n",
       "         7.04949006e+00,   2.32116325e+00,   4.51150986e+00,\n",
       "         5.01512650e+00,   3.96518545e-01,  -7.63161190e+00,\n",
       "        -4.48102893e+00,  -6.97721112e+00,  -3.70771554e+00,\n",
       "         3.51035225e+00,  -6.37237055e+00,   9.85692750e+00,\n",
       "        -8.10751279e+00,   1.09969235e+01,   1.90792540e+01,\n",
       "         5.73436236e+00,   1.41491111e+01,  -7.24307926e+00,\n",
       "         2.85749307e+00,   1.44275099e+01,   1.30677595e+01,\n",
       "        -2.32223822e+00,   7.30096172e+00,  -5.75355894e+00,\n",
       "         4.63494561e-01,   8.83825257e+00,   1.53840979e+01,\n",
       "        -3.90310577e+00,   5.57688744e+00,  -1.67030991e+01,\n",
       "         1.50867370e-01,   6.51693660e+00,  -7.71880801e+00,\n",
       "         2.08744851e+00,  -8.36999828e-01,  -1.75735172e+01,\n",
       "        -2.94768684e+00,  -3.01477150e+00,   1.04902232e+01,\n",
       "        -1.13668318e+01,   5.46787274e+00,   3.48668571e-01,\n",
       "        -5.76096600e+00,   9.61115251e+00,  -6.59417205e+00,\n",
       "         2.36131330e+00,   2.48774171e+00,   3.37950866e+00,\n",
       "        -3.28478236e+00,   8.31571845e-01,  -7.51151634e+00,\n",
       "        -8.01929526e+00,  -4.69391997e+00,  -1.21020814e+01,\n",
       "        -8.67545368e+00,   1.54748922e+01,  -7.35075500e+00,\n",
       "        -1.08710604e+01,   3.39444101e+00,   6.88101604e-01,\n",
       "         6.97870508e+00,  -1.13992826e-01,  -6.15458303e+00,\n",
       "        -1.67363404e+01,  -6.97802923e+00,  -2.69951736e+00,\n",
       "         7.61210938e-01,  -2.72497180e+00,  -2.02439535e+00,\n",
       "         1.08339379e+00,  -1.46218318e+00,   1.39580976e+01,\n",
       "        -7.29066929e-01,  -9.96833930e+00,  -1.42046031e+00,\n",
       "        -8.46180626e+00,  -7.26485902e+00,  -4.71526609e+00,\n",
       "         1.13675012e+01,   5.97834150e-01,  -9.37908226e-01,\n",
       "         8.88601814e-01,  -1.11038389e+01,   1.68814958e+00,\n",
       "        -3.83335016e-01,   4.81743773e+00,   4.61931554e+00,\n",
       "        -1.31003353e+01,  -6.86968158e-01,  -8.24103991e+00,\n",
       "        -7.07068197e+00,   4.57426212e+00,  -1.82468755e+00,\n",
       "        -1.05749178e+01,   3.35589648e+00,  -4.52951118e-01,\n",
       "        -3.81645827e+00,   3.48285452e+00,   2.11792282e+00,\n",
       "        -1.27088288e+01,   2.62851855e+00,  -7.85165611e+00,\n",
       "        -1.58520261e+01,  -1.00903570e+01,  -7.07464116e+00,\n",
       "         9.01386305e-01,  -1.77158807e+00,  -2.14606349e+00,\n",
       "         5.66965242e+00])"
      ]
     },
     "execution_count": 224,
     "metadata": {},
     "output_type": "execute_result"
    }
   ],
   "source": [
    "X.dot(w)"
   ]
  },
  {
   "cell_type": "code",
   "execution_count": 225,
   "metadata": {},
   "outputs": [
    {
     "data": {
      "text/plain": [
       "-3.6399257432223591"
      ]
     },
     "execution_count": 225,
     "metadata": {},
     "output_type": "execute_result"
    }
   ],
   "source": [
    "X[0].dot(w)"
   ]
  },
  {
   "cell_type": "code",
   "execution_count": 226,
   "metadata": {},
   "outputs": [
    {
     "data": {
      "text/plain": [
       "5.6696524239073423"
      ]
     },
     "execution_count": 226,
     "metadata": {},
     "output_type": "execute_result"
    }
   ],
   "source": [
    "X[-1].dot(w)"
   ]
  },
  {
   "cell_type": "code",
   "execution_count": 227,
   "metadata": {
    "collapsed": true
   },
   "outputs": [],
   "source": [
    "pos = np.array([x for x in X if x.dot(w) > 0])"
   ]
  },
  {
   "cell_type": "code",
   "execution_count": 228,
   "metadata": {},
   "outputs": [
    {
     "data": {
      "text/plain": [
       "525"
      ]
     },
     "execution_count": 228,
     "metadata": {},
     "output_type": "execute_result"
    }
   ],
   "source": [
    "len(pos)"
   ]
  },
  {
   "cell_type": "code",
   "execution_count": 229,
   "metadata": {
    "collapsed": true
   },
   "outputs": [],
   "source": [
    "pos = X [X.dot(w) > 0]"
   ]
  },
  {
   "cell_type": "code",
   "execution_count": 230,
   "metadata": {},
   "outputs": [
    {
     "data": {
      "text/plain": [
       "525"
      ]
     },
     "execution_count": 230,
     "metadata": {},
     "output_type": "execute_result"
    }
   ],
   "source": [
    "len(pos)"
   ]
  },
  {
   "cell_type": "code",
   "execution_count": 231,
   "metadata": {
    "collapsed": true
   },
   "outputs": [],
   "source": [
    "myplot(pos, '.r')"
   ]
  },
  {
   "cell_type": "code",
   "execution_count": 232,
   "metadata": {},
   "outputs": [
    {
     "data": {
      "text/plain": [
       "array([False, False,  True, False, False,  True, False, False,  True,\n",
       "        True,  True,  True,  True,  True,  True, False, False,  True,\n",
       "        True,  True,  True,  True,  True,  True, False, False,  True,\n",
       "        True,  True,  True, False, False,  True,  True,  True,  True,\n",
       "       False,  True,  True, False,  True,  True, False,  True, False,\n",
       "       False,  True, False,  True, False,  True,  True, False,  True,\n",
       "       False,  True, False,  True,  True,  True,  True,  True, False,\n",
       "        True, False,  True, False,  True, False,  True, False,  True,\n",
       "        True,  True, False, False, False,  True, False,  True, False,\n",
       "        True, False, False, False, False,  True, False, False, False,\n",
       "        True,  True, False,  True,  True,  True,  True, False,  True,\n",
       "        True, False,  True,  True,  True, False,  True,  True, False,\n",
       "       False, False,  True, False, False, False, False, False,  True,\n",
       "       False,  True,  True,  True, False, False, False, False,  True,\n",
       "       False, False, False,  True, False,  True,  True,  True, False,\n",
       "        True,  True,  True, False, False, False,  True,  True, False,\n",
       "        True, False, False, False,  True, False, False, False, False,\n",
       "        True, False,  True,  True,  True,  True, False, False, False,\n",
       "        True,  True, False,  True,  True, False, False,  True, False,\n",
       "       False, False,  True,  True,  True, False, False,  True,  True,\n",
       "       False, False,  True, False, False, False,  True, False,  True,\n",
       "       False,  True,  True, False, False, False, False,  True,  True,\n",
       "        True,  True,  True,  True,  True,  True,  True, False, False,\n",
       "       False, False, False,  True,  True, False, False, False, False,\n",
       "       False, False,  True, False,  True, False,  True, False, False,\n",
       "       False, False, False, False,  True,  True,  True,  True,  True,\n",
       "        True,  True, False, False,  True, False, False,  True, False,\n",
       "       False, False, False,  True,  True,  True,  True, False, False,\n",
       "        True,  True,  True, False,  True, False, False,  True,  True,\n",
       "        True,  True,  True, False,  True,  True, False,  True,  True,\n",
       "        True,  True, False,  True,  True,  True,  True,  True,  True,\n",
       "        True, False, False,  True,  True, False, False,  True, False,\n",
       "        True, False, False, False,  True,  True,  True,  True, False,\n",
       "        True, False,  True, False,  True,  True,  True, False,  True,\n",
       "        True,  True,  True, False,  True, False,  True, False, False,\n",
       "       False, False,  True,  True, False,  True, False, False,  True,\n",
       "        True, False, False,  True,  True, False,  True, False,  True,\n",
       "       False,  True, False,  True, False, False, False,  True,  True,\n",
       "       False,  True,  True, False, False, False, False,  True, False,\n",
       "       False, False,  True,  True,  True, False, False, False,  True,\n",
       "       False, False, False, False, False,  True,  True, False,  True,\n",
       "        True, False,  True, False, False,  True,  True, False,  True,\n",
       "       False, False, False,  True,  True, False,  True,  True,  True,\n",
       "        True,  True, False,  True,  True,  True, False, False, False,\n",
       "       False,  True,  True, False,  True,  True, False, False,  True,\n",
       "        True, False, False, False,  True, False,  True, False, False,\n",
       "       False, False, False, False, False, False, False,  True, False,\n",
       "       False,  True, False,  True,  True,  True,  True, False,  True,\n",
       "       False,  True, False, False,  True, False, False,  True, False,\n",
       "       False, False,  True, False,  True, False,  True,  True, False,\n",
       "       False, False,  True, False, False,  True, False, False, False,\n",
       "        True,  True, False, False,  True, False,  True,  True,  True,\n",
       "        True, False,  True, False, False,  True, False,  True, False,\n",
       "        True,  True, False, False, False,  True,  True, False, False,\n",
       "        True,  True, False,  True,  True, False,  True, False, False,\n",
       "       False,  True,  True, False, False,  True, False, False, False,\n",
       "        True, False,  True, False, False,  True,  True,  True,  True,\n",
       "       False, False,  True, False,  True,  True,  True,  True, False,\n",
       "       False, False, False,  True,  True, False, False,  True,  True,\n",
       "        True,  True,  True,  True,  True,  True,  True,  True,  True,\n",
       "       False,  True,  True, False,  True,  True, False,  True, False,\n",
       "        True, False,  True, False,  True,  True,  True,  True, False,\n",
       "       False, False,  True,  True,  True, False,  True,  True,  True,\n",
       "       False,  True,  True, False, False,  True,  True, False,  True,\n",
       "        True,  True, False, False, False, False,  True,  True, False,\n",
       "       False,  True, False, False, False, False, False,  True, False,\n",
       "        True, False,  True, False, False, False,  True,  True, False,\n",
       "        True, False, False, False,  True,  True,  True, False, False,\n",
       "       False, False, False, False,  True, False,  True, False,  True,\n",
       "       False, False,  True,  True,  True, False,  True,  True, False,\n",
       "        True,  True, False,  True,  True, False,  True, False, False,\n",
       "        True,  True,  True,  True,  True,  True,  True, False, False,\n",
       "        True,  True,  True,  True, False,  True,  True,  True,  True,\n",
       "       False,  True,  True,  True,  True, False,  True,  True,  True,\n",
       "       False,  True,  True, False,  True, False,  True,  True, False,\n",
       "        True, False, False,  True,  True,  True,  True, False,  True,\n",
       "        True,  True, False,  True, False,  True,  True, False, False,\n",
       "       False,  True,  True,  True,  True,  True,  True, False,  True,\n",
       "       False, False,  True,  True,  True, False,  True,  True, False,\n",
       "        True,  True,  True,  True,  True,  True,  True, False,  True,\n",
       "       False, False,  True,  True,  True,  True,  True, False, False,\n",
       "       False,  True, False, False,  True, False, False, False,  True,\n",
       "        True,  True, False,  True, False,  True, False,  True,  True,\n",
       "        True, False,  True, False,  True,  True, False, False, False,\n",
       "       False, False, False,  True, False, False, False,  True,  True,\n",
       "        True, False,  True,  True, False, False,  True, False, False,\n",
       "       False, False,  True,  True,  True, False, False,  True,  True,\n",
       "       False, False,  True,  True, False, False,  True,  True, False,\n",
       "        True, False, False, False,  True, False,  True,  True, False,\n",
       "        True,  True,  True,  True,  True, False,  True,  True, False,\n",
       "       False, False,  True,  True,  True,  True,  True, False,  True,\n",
       "        True, False, False, False,  True,  True,  True, False,  True,\n",
       "        True, False,  True, False,  True,  True,  True, False,  True,\n",
       "        True,  True,  True,  True,  True,  True, False, False, False,\n",
       "        True, False, False, False,  True,  True, False,  True, False,\n",
       "        True,  True,  True, False,  True,  True, False, False,  True,\n",
       "        True,  True, False,  True,  True, False, False, False, False,\n",
       "       False, False,  True,  True, False,  True, False, False,  True,\n",
       "        True,  True,  True, False, False, False,  True, False,  True,\n",
       "        True,  True,  True,  True,  True, False, False, False, False,\n",
       "        True, False,  True, False,  True,  True,  True,  True, False,\n",
       "        True,  True,  True, False,  True, False,  True,  True,  True,\n",
       "       False,  True, False,  True,  True, False,  True, False, False,\n",
       "       False, False,  True, False,  True,  True, False,  True, False,\n",
       "        True,  True,  True, False,  True, False, False, False, False,\n",
       "       False,  True, False, False,  True,  True,  True, False, False,\n",
       "       False, False, False,  True, False, False,  True, False,  True,\n",
       "       False, False, False, False, False, False,  True,  True, False,\n",
       "        True, False,  True, False,  True,  True, False, False, False,\n",
       "       False,  True, False, False,  True, False, False,  True,  True,\n",
       "       False,  True, False, False, False, False,  True, False, False,  True], dtype=bool)"
      ]
     },
     "execution_count": 232,
     "metadata": {},
     "output_type": "execute_result"
    }
   ],
   "source": [
    "X.dot(w) > 0"
   ]
  },
  {
   "cell_type": "code",
   "execution_count": 233,
   "metadata": {
    "collapsed": true
   },
   "outputs": [],
   "source": [
    "neg = X [X.dot(w) < 0]"
   ]
  },
  {
   "cell_type": "code",
   "execution_count": 234,
   "metadata": {},
   "outputs": [
    {
     "data": {
      "text/plain": [
       "475"
      ]
     },
     "execution_count": 234,
     "metadata": {},
     "output_type": "execute_result"
    }
   ],
   "source": [
    "len(neg)"
   ]
  },
  {
   "cell_type": "code",
   "execution_count": 235,
   "metadata": {
    "collapsed": true
   },
   "outputs": [],
   "source": [
    "myplot(neg, '.c')"
   ]
  },
  {
   "cell_type": "code",
   "execution_count": 236,
   "metadata": {
    "collapsed": true
   },
   "outputs": [],
   "source": [
    "bad = X[abs(X.dot(w)) < 1]"
   ]
  },
  {
   "cell_type": "code",
   "execution_count": 237,
   "metadata": {},
   "outputs": [
    {
     "data": {
      "text/plain": [
       "115"
      ]
     },
     "execution_count": 237,
     "metadata": {},
     "output_type": "execute_result"
    }
   ],
   "source": [
    "len(bad)"
   ]
  },
  {
   "cell_type": "code",
   "execution_count": 238,
   "metadata": {
    "collapsed": true
   },
   "outputs": [],
   "source": [
    "myplot(bad, '.w')"
   ]
  },
  {
   "cell_type": "code",
   "execution_count": 239,
   "metadata": {
    "collapsed": true
   },
   "outputs": [],
   "source": [
    "bad = X[abs(X.dot(w)) < 5]"
   ]
  },
  {
   "cell_type": "code",
   "execution_count": 240,
   "metadata": {
    "collapsed": true
   },
   "outputs": [],
   "source": [
    "myplot(bad, '.w')"
   ]
  },
  {
   "cell_type": "code",
   "execution_count": 241,
   "metadata": {},
   "outputs": [
    {
     "data": {
      "text/plain": [
       "array([1, 1])"
      ]
     },
     "execution_count": 241,
     "metadata": {},
     "output_type": "execute_result"
    }
   ],
   "source": [
    "w"
   ]
  },
  {
   "cell_type": "code",
   "execution_count": 242,
   "metadata": {},
   "outputs": [
    {
     "name": "stderr",
     "output_type": "stream",
     "text": [
      "/anaconda/lib/python2.7/site-packages/ipykernel_launcher.py:1: DeprecationWarning: Implicitly casting between incompatible kinds. In a future numpy release, this will raise an error. Use casting=\"unsafe\" if this is intentional.\n",
      "  \"\"\"Entry point for launching an IPython kernel.\n"
     ]
    }
   ],
   "source": [
    "w /= norm(w)"
   ]
  },
  {
   "cell_type": "code",
   "execution_count": 243,
   "metadata": {},
   "outputs": [
    {
     "data": {
      "text/plain": [
       "array([0, 0])"
      ]
     },
     "execution_count": 243,
     "metadata": {},
     "output_type": "execute_result"
    }
   ],
   "source": [
    "w"
   ]
  },
  {
   "cell_type": "code",
   "execution_count": 244,
   "metadata": {
    "collapsed": true
   },
   "outputs": [],
   "source": [
    "w = array([1,1], dtype=float)"
   ]
  },
  {
   "cell_type": "code",
   "execution_count": 245,
   "metadata": {
    "collapsed": true
   },
   "outputs": [],
   "source": [
    "w /= norm(w)"
   ]
  },
  {
   "cell_type": "code",
   "execution_count": 246,
   "metadata": {},
   "outputs": [
    {
     "data": {
      "text/plain": [
       "array([ 0.70710678,  0.70710678])"
      ]
     },
     "execution_count": 246,
     "metadata": {},
     "output_type": "execute_result"
    }
   ],
   "source": [
    "w"
   ]
  },
  {
   "cell_type": "code",
   "execution_count": 247,
   "metadata": {
    "collapsed": true
   },
   "outputs": [],
   "source": [
    "bad = X[abs(X.dot(w)) < 10]"
   ]
  },
  {
   "cell_type": "code",
   "execution_count": 248,
   "metadata": {
    "collapsed": true
   },
   "outputs": [],
   "source": [
    "myplot(bad, '.w')"
   ]
  },
  {
   "cell_type": "code",
   "execution_count": 249,
   "metadata": {
    "collapsed": true
   },
   "outputs": [],
   "source": [
    "myplot(X, '.b')"
   ]
  },
  {
   "cell_type": "code",
   "execution_count": 250,
   "metadata": {
    "collapsed": true
   },
   "outputs": [],
   "source": [
    "bad = X[(-2 < X.dot(w)) & (X.dot(w) < 1) ]"
   ]
  },
  {
   "cell_type": "code",
   "execution_count": 251,
   "metadata": {},
   "outputs": [
    {
     "data": {
      "text/plain": [
       "219"
      ]
     },
     "execution_count": 251,
     "metadata": {},
     "output_type": "execute_result"
    }
   ],
   "source": [
    "len(bad)"
   ]
  },
  {
   "cell_type": "code",
   "execution_count": 252,
   "metadata": {
    "collapsed": true
   },
   "outputs": [],
   "source": [
    "myplot(bad, '.w')"
   ]
  },
  {
   "cell_type": "code",
   "execution_count": null,
   "metadata": {
    "collapsed": true
   },
   "outputs": [],
   "source": []
  }
 ],
 "metadata": {
  "kernelspec": {
   "display_name": "Python 2",
   "language": "python",
   "name": "python2"
  },
  "language_info": {
   "codemirror_mode": {
    "name": "ipython",
    "version": 2
   },
   "file_extension": ".py",
   "mimetype": "text/x-python",
   "name": "python",
   "nbconvert_exporter": "python",
   "pygments_lexer": "ipython2",
   "version": "2.7.13"
  }
 },
 "nbformat": 4,
 "nbformat_minor": 2
}
